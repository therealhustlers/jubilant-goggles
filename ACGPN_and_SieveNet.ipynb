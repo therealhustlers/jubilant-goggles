{
  "nbformat": 4,
  "nbformat_minor": 0,
  "metadata": {
    "colab": {
      "name": "ACGPN_and_SieveNet.ipynb",
      "provenance": [],
      "collapsed_sections": [
        "7WJtP2PfBcPN",
        "veedN5N8BYOl"
      ]
    },
    "kernelspec": {
      "name": "python3",
      "display_name": "Python 3"
    },
    "accelerator": "GPU"
  },
  "cells": [
    {
      "cell_type": "markdown",
      "metadata": {
        "id": "3CCSQIBMAYYZ"
      },
      "source": [
        "For inferencing ACGPN and SieveNet!\n",
        "\n",
        "ACGPN repo: https://github.com/switchablenorms/DeepFashion_Try_On\n",
        "\n",
        "SieveNet repo: https://github.com/levindabhi/SieveNet\n",
        "\n",
        "This notebook is hard coded for inferencing one image at a time.\n",
        "\n",
        "Notebook by [Levin Dabhi](https://levindabhi.github.io/)"
      ]
    },
    {
      "cell_type": "markdown",
      "metadata": {
        "id": "7WJtP2PfBcPN"
      },
      "source": [
        "# ACGPN"
      ]
    },
    {
      "cell_type": "code",
      "metadata": {
        "id": "GVm5QFBMDBbT",
        "colab": {
          "base_uri": "https://localhost:8080/"
        },
        "outputId": "9b105a8b-63d0-4a7d-aaf9-46001f22324f"
      },
      "source": [
        "!git clone https://github.com/levindabhi/ACGPN.git\n",
        "%cd ACGPN"
      ],
      "execution_count": 1,
      "outputs": [
        {
          "output_type": "stream",
          "name": "stdout",
          "text": [
            "Cloning into 'ACGPN'...\n",
            "remote: Enumerating objects: 161, done.\u001b[K\n",
            "remote: Counting objects: 100% (22/22), done.\u001b[K\n",
            "remote: Compressing objects: 100% (4/4), done.\u001b[K\n",
            "remote: Total 161 (delta 20), reused 18 (delta 18), pack-reused 139 (from 1)\u001b[K\n",
            "Receiving objects: 100% (161/161), 302.85 KiB | 1.16 MiB/s, done.\n",
            "Resolving deltas: 100% (59/59), done.\n",
            "/content/ACGPN\n"
          ]
        }
      ]
    },
    {
      "cell_type": "code",
      "metadata": {
        "id": "Cnk7syY0rPKp",
        "colab": {
          "base_uri": "https://localhost:8080/"
        },
        "outputId": "73b3e804-b8fb-4d10-b8a8-8b8205f33d57"
      },
      "source": [
        "!pip install ninja"
      ],
      "execution_count": 2,
      "outputs": [
        {
          "output_type": "stream",
          "name": "stdout",
          "text": [
            "Collecting ninja\n",
            "  Downloading ninja-1.11.1.4-py3-none-manylinux_2_12_x86_64.manylinux2010_x86_64.whl.metadata (5.0 kB)\n",
            "Downloading ninja-1.11.1.4-py3-none-manylinux_2_12_x86_64.manylinux2010_x86_64.whl (422 kB)\n",
            "\u001b[?25l   \u001b[90m━━━━━━━━━━━━━━━━━━━━━━━━━━━━━━━━━━━━━━━━\u001b[0m \u001b[32m0.0/422.8 kB\u001b[0m \u001b[31m?\u001b[0m eta \u001b[36m-:--:--\u001b[0m\r\u001b[2K   \u001b[91m━━━━━━━━━━━━━━━━━━━━━━━━━━━━━━━\u001b[0m\u001b[91m╸\u001b[0m\u001b[90m━━━━━━━━\u001b[0m \u001b[32m337.9/422.8 kB\u001b[0m \u001b[31m10.1 MB/s\u001b[0m eta \u001b[36m0:00:01\u001b[0m\r\u001b[2K   \u001b[90m━━━━━━━━━━━━━━━━━━━━━━━━━━━━━━━━━━━━━━━━\u001b[0m \u001b[32m422.8/422.8 kB\u001b[0m \u001b[31m9.1 MB/s\u001b[0m eta \u001b[36m0:00:00\u001b[0m\n",
            "\u001b[?25hInstalling collected packages: ninja\n",
            "Successfully installed ninja-1.11.1.4\n"
          ]
        }
      ]
    },
    {
      "cell_type": "code",
      "metadata": {
        "id": "xQwI--uhoH6R"
      },
      "source": [
        "import gdown\n",
        "import numpy as np\n",
        "from PIL import Image\n",
        "import IPython\n",
        "import gdown\n",
        "import os\n",
        "import sys\n",
        "\n",
        "from predict_pose import generate_pose_keypoints"
      ],
      "execution_count": 3,
      "outputs": []
    },
    {
      "cell_type": "code",
      "metadata": {
        "id": "BwQ5zfh5oMe1",
        "colab": {
          "base_uri": "https://localhost:8080/",
          "height": 70
        },
        "outputId": "5f37c405-a13a-49ac-9c62-f368bede5330"
      },
      "source": [
        "'''\n",
        "gdown.download('https://drive.google.com/uc?id=1tE7hcVFm8Td8kRh5iYRBSDFdvZIkbUIR', 'Data_preprocessing/data.zip', quiet=False)\n",
        "%cd Data_preprocessing\n",
        "!unzip data\n",
        "%cd ..\n",
        "'''"
      ],
      "execution_count": 4,
      "outputs": [
        {
          "output_type": "execute_result",
          "data": {
            "text/plain": [
              "\"\\ngdown.download('https://drive.google.com/uc?id=1tE7hcVFm8Td8kRh5iYRBSDFdvZIkbUIR', 'Data_preprocessing/data.zip', quiet=False)\\n%cd Data_preprocessing\\n!unzip data\\n%cd ..\\n\""
            ],
            "application/vnd.google.colaboratory.intrinsic+json": {
              "type": "string"
            }
          },
          "metadata": {},
          "execution_count": 4
        }
      ]
    },
    {
      "cell_type": "code",
      "metadata": {
        "id": "86Ll7LIW1kGw"
      },
      "source": [
        "!mkdir Data_preprocessing/test_color\n",
        "!mkdir Data_preprocessing/test_colormask\n",
        "!mkdir Data_preprocessing/test_edge\n",
        "!mkdir Data_preprocessing/test_img\n",
        "!mkdir Data_preprocessing/test_label\n",
        "!mkdir Data_preprocessing/test_mask\n",
        "!mkdir Data_preprocessing/test_pose\n",
        "!mkdir inputs\n",
        "!mkdir inputs/img\n",
        "!mkdir inputs/cloth"
      ],
      "execution_count": 5,
      "outputs": []
    },
    {
      "cell_type": "code",
      "metadata": {
        "id": "K8hYM6XqCnxC",
        "colab": {
          "base_uri": "https://localhost:8080/"
        },
        "outputId": "5b487eee-5786-4b33-bf89-25563802851d"
      },
      "source": [
        "%cd pose\n",
        "!gdown --id 1hOHMFHEjhoJuLEQY0Ndurn5hfiA9mwko\n",
        "%cd .."
      ],
      "execution_count": 6,
      "outputs": [
        {
          "output_type": "stream",
          "name": "stdout",
          "text": [
            "/content/ACGPN/pose\n",
            "/usr/local/lib/python3.11/dist-packages/gdown/__main__.py:140: FutureWarning: Option `--id` was deprecated in version 4.3.1 and will be removed in 5.0. You don't need to pass it anymore to use a file ID.\n",
            "  warnings.warn(\n",
            "Failed to retrieve file url:\n",
            "\n",
            "\tCannot retrieve the public link of the file. You may need to change\n",
            "\tthe permission to 'Anyone with the link', or have had many accesses.\n",
            "\tCheck FAQ in https://github.com/wkentaro/gdown?tab=readme-ov-file#faq.\n",
            "\n",
            "You may still be able to access the file from the browser:\n",
            "\n",
            "\thttps://drive.google.com/uc?id=1hOHMFHEjhoJuLEQY0Ndurn5hfiA9mwko\n",
            "\n",
            "but Gdown can't. Please check connections and permissions.\n",
            "/content/ACGPN\n"
          ]
        }
      ]
    },
    {
      "cell_type": "code",
      "metadata": {
        "id": "HbGDB31KrKHV",
        "colab": {
          "base_uri": "https://localhost:8080/"
        },
        "outputId": "c566e950-ce66-4824-db24-25f5e5c230e9"
      },
      "source": [
        "!git clone https://github.com/levindabhi/Self-Correction-Human-Parsing-for-ACGPN.git\n",
        "!git clone https://github.com/levindabhi/U-2-Net.git"
      ],
      "execution_count": 7,
      "outputs": [
        {
          "output_type": "stream",
          "name": "stdout",
          "text": [
            "Cloning into 'Self-Correction-Human-Parsing-for-ACGPN'...\n",
            "remote: Enumerating objects: 769, done.\u001b[K\n",
            "remote: Counting objects: 100% (203/203), done.\u001b[K\n",
            "remote: Compressing objects: 100% (109/109), done.\u001b[K\n",
            "remote: Total 769 (delta 103), reused 94 (delta 94), pack-reused 566 (from 1)\u001b[K\n",
            "Receiving objects: 100% (769/769), 3.89 MiB | 7.71 MiB/s, done.\n",
            "Resolving deltas: 100% (184/184), done.\n",
            "Cloning into 'U-2-Net'...\n",
            "remote: Enumerating objects: 822, done.\u001b[K\n",
            "remote: Counting objects: 100% (334/334), done.\u001b[K\n",
            "remote: Compressing objects: 100% (35/35), done.\u001b[K\n",
            "remote: Total 822 (delta 312), reused 299 (delta 299), pack-reused 488 (from 1)\u001b[K\n",
            "Receiving objects: 100% (822/822), 30.71 MiB | 20.65 MiB/s, done.\n",
            "Resolving deltas: 100% (391/391), done.\n"
          ]
        }
      ]
    },
    {
      "cell_type": "code",
      "metadata": {
        "id": "3hSJI347rZtQ",
        "colab": {
          "base_uri": "https://localhost:8080/",
          "height": 142
        },
        "outputId": "ef3bc7be-952a-439c-fd0a-a600fa309fff"
      },
      "source": [
        "#for segmentation mask generation\n",
        "url = 'https://drive.google.com/uc?id=1k4dllHpu0bdx38J7H28rVVLpU-kOHmnH'\n",
        "output = 'lip_final.pth'\n",
        "gdown.download(url, output, quiet=False)"
      ],
      "execution_count": 8,
      "outputs": [
        {
          "output_type": "stream",
          "name": "stderr",
          "text": [
            "Downloading...\n",
            "From (original): https://drive.google.com/uc?id=1k4dllHpu0bdx38J7H28rVVLpU-kOHmnH\n",
            "From (redirected): https://drive.google.com/uc?id=1k4dllHpu0bdx38J7H28rVVLpU-kOHmnH&confirm=t&uuid=cfe8c238-7684-4f9d-98bb-dfb65e39b3da\n",
            "To: /content/ACGPN/lip_final.pth\n",
            "100%|██████████| 267M/267M [00:04<00:00, 55.5MB/s]\n"
          ]
        },
        {
          "output_type": "execute_result",
          "data": {
            "text/plain": [
              "'lip_final.pth'"
            ],
            "application/vnd.google.colaboratory.intrinsic+json": {
              "type": "string"
            }
          },
          "metadata": {},
          "execution_count": 8
        }
      ]
    },
    {
      "cell_type": "code",
      "metadata": {
        "id": "vzy8poZT6pcU",
        "colab": {
          "base_uri": "https://localhost:8080/"
        },
        "outputId": "410336a9-29fc-4d83-d83e-d51a8a592d4b"
      },
      "source": [
        "%cd U-2-Net\n",
        "!mkdir saved_models\n",
        "!mkdir saved_models/u2net\n",
        "!mkdir saved_models/u2netp\n",
        "!gdown --id 1rbSTGKAE-MTxBYHd-51l2hMOQPT_7EPy -O saved_models/u2netp/u2netp.pth\n",
        "!gdown --id 1ao1ovG1Qtx4b7EoskHXmi2E9rp5CHLcZ -O saved_models/u2net/u2net.pth\n",
        "import u2net_load\n",
        "import u2net_run\n",
        "u2net = u2net_load.model(model_name = 'u2netp')\n",
        "%cd .."
      ],
      "execution_count": 9,
      "outputs": [
        {
          "output_type": "stream",
          "name": "stdout",
          "text": [
            "/content/ACGPN/U-2-Net\n",
            "mkdir: cannot create directory ‘saved_models’: File exists\n",
            "/usr/local/lib/python3.11/dist-packages/gdown/__main__.py:140: FutureWarning: Option `--id` was deprecated in version 4.3.1 and will be removed in 5.0. You don't need to pass it anymore to use a file ID.\n",
            "  warnings.warn(\n",
            "Downloading...\n",
            "From: https://drive.google.com/uc?id=1rbSTGKAE-MTxBYHd-51l2hMOQPT_7EPy\n",
            "To: /content/ACGPN/U-2-Net/saved_models/u2netp/u2netp.pth\n",
            "100% 4.68M/4.68M [00:00<00:00, 33.4MB/s]\n",
            "/usr/local/lib/python3.11/dist-packages/gdown/__main__.py:140: FutureWarning: Option `--id` was deprecated in version 4.3.1 and will be removed in 5.0. You don't need to pass it anymore to use a file ID.\n",
            "  warnings.warn(\n",
            "Downloading...\n",
            "From (original): https://drive.google.com/uc?id=1ao1ovG1Qtx4b7EoskHXmi2E9rp5CHLcZ\n",
            "From (redirected): https://drive.google.com/uc?id=1ao1ovG1Qtx4b7EoskHXmi2E9rp5CHLcZ&confirm=t&uuid=c1c0ed08-60c6-4850-9d60-a988f050d8e1\n",
            "To: /content/ACGPN/U-2-Net/saved_models/u2net/u2net.pth\n",
            "100% 176M/176M [00:02<00:00, 72.1MB/s]\n",
            "...load U2NEP---4.7 MB\n",
            "/content/ACGPN\n"
          ]
        }
      ]
    },
    {
      "cell_type": "code",
      "metadata": {
        "id": "r1VknOqswSTW",
        "colab": {
          "base_uri": "https://localhost:8080/"
        },
        "outputId": "2ad86e94-c269-4a7d-acf0-e1583cd3a734"
      },
      "source": [
        "!mkdir checkpoints\n",
        "gdown.download('https://drive.google.com/uc?id=1UWT6esQIU_d4tUm8cjxDKMhB8joQbrFx',output='checkpoints/ACGPN_checkpoints.zip', quiet=False)\n",
        "%cd checkpoints\n",
        "!unzip ACGPN_checkpoints\n",
        "%cd .."
      ],
      "execution_count": 10,
      "outputs": [
        {
          "output_type": "stream",
          "name": "stderr",
          "text": [
            "Downloading...\n",
            "From (original): https://drive.google.com/uc?id=1UWT6esQIU_d4tUm8cjxDKMhB8joQbrFx\n",
            "From (redirected): https://drive.google.com/uc?id=1UWT6esQIU_d4tUm8cjxDKMhB8joQbrFx&confirm=t&uuid=288fa401-9ea7-46b8-9bd6-187912e98eda\n",
            "To: /content/ACGPN/checkpoints/ACGPN_checkpoints.zip\n",
            "100%|██████████| 524M/524M [00:05<00:00, 99.0MB/s]\n"
          ]
        },
        {
          "output_type": "stream",
          "name": "stdout",
          "text": [
            "/content/ACGPN/checkpoints\n",
            "Archive:  ACGPN_checkpoints.zip\n",
            "   creating: label2city/\n",
            "  inflating: label2city/latest_net_G.pth  \n",
            "  inflating: label2city/latest_net_G1.pth  \n",
            "  inflating: label2city/latest_net_G2.pth  \n",
            "  inflating: label2city/latest_net_U.pth  \n",
            "  inflating: label2city/opt.txt      \n",
            "/content/ACGPN\n"
          ]
        }
      ]
    },
    {
      "cell_type": "markdown",
      "metadata": {
        "id": "eD-DMczQthkd"
      },
      "source": [
        "### Please upload your cloth image below"
      ]
    },
    {
      "cell_type": "code",
      "metadata": {
        "id": "eAMmTiQ7zibP",
        "colab": {
          "base_uri": "https://localhost:8080/",
          "height": 125
        },
        "outputId": "6c44c8e2-0692-4241-e9e2-ba8fb7911502"
      },
      "source": [
        "%cd inputs/cloth\n",
        "from google.colab import files\n",
        "uploaded = files.upload()\n",
        "%cd ..\n",
        "%cd .."
      ],
      "execution_count": 11,
      "outputs": [
        {
          "output_type": "stream",
          "name": "stdout",
          "text": [
            "/content/ACGPN/inputs/cloth\n"
          ]
        },
        {
          "output_type": "display_data",
          "data": {
            "text/plain": [
              "<IPython.core.display.HTML object>"
            ],
            "text/html": [
              "\n",
              "     <input type=\"file\" id=\"files-7d9f3725-2a38-40b9-a2b2-8ba440ea43c9\" name=\"files[]\" multiple disabled\n",
              "        style=\"border:none\" />\n",
              "     <output id=\"result-7d9f3725-2a38-40b9-a2b2-8ba440ea43c9\">\n",
              "      Upload widget is only available when the cell has been executed in the\n",
              "      current browser session. Please rerun this cell to enable.\n",
              "      </output>\n",
              "      <script>// Copyright 2017 Google LLC\n",
              "//\n",
              "// Licensed under the Apache License, Version 2.0 (the \"License\");\n",
              "// you may not use this file except in compliance with the License.\n",
              "// You may obtain a copy of the License at\n",
              "//\n",
              "//      http://www.apache.org/licenses/LICENSE-2.0\n",
              "//\n",
              "// Unless required by applicable law or agreed to in writing, software\n",
              "// distributed under the License is distributed on an \"AS IS\" BASIS,\n",
              "// WITHOUT WARRANTIES OR CONDITIONS OF ANY KIND, either express or implied.\n",
              "// See the License for the specific language governing permissions and\n",
              "// limitations under the License.\n",
              "\n",
              "/**\n",
              " * @fileoverview Helpers for google.colab Python module.\n",
              " */\n",
              "(function(scope) {\n",
              "function span(text, styleAttributes = {}) {\n",
              "  const element = document.createElement('span');\n",
              "  element.textContent = text;\n",
              "  for (const key of Object.keys(styleAttributes)) {\n",
              "    element.style[key] = styleAttributes[key];\n",
              "  }\n",
              "  return element;\n",
              "}\n",
              "\n",
              "// Max number of bytes which will be uploaded at a time.\n",
              "const MAX_PAYLOAD_SIZE = 100 * 1024;\n",
              "\n",
              "function _uploadFiles(inputId, outputId) {\n",
              "  const steps = uploadFilesStep(inputId, outputId);\n",
              "  const outputElement = document.getElementById(outputId);\n",
              "  // Cache steps on the outputElement to make it available for the next call\n",
              "  // to uploadFilesContinue from Python.\n",
              "  outputElement.steps = steps;\n",
              "\n",
              "  return _uploadFilesContinue(outputId);\n",
              "}\n",
              "\n",
              "// This is roughly an async generator (not supported in the browser yet),\n",
              "// where there are multiple asynchronous steps and the Python side is going\n",
              "// to poll for completion of each step.\n",
              "// This uses a Promise to block the python side on completion of each step,\n",
              "// then passes the result of the previous step as the input to the next step.\n",
              "function _uploadFilesContinue(outputId) {\n",
              "  const outputElement = document.getElementById(outputId);\n",
              "  const steps = outputElement.steps;\n",
              "\n",
              "  const next = steps.next(outputElement.lastPromiseValue);\n",
              "  return Promise.resolve(next.value.promise).then((value) => {\n",
              "    // Cache the last promise value to make it available to the next\n",
              "    // step of the generator.\n",
              "    outputElement.lastPromiseValue = value;\n",
              "    return next.value.response;\n",
              "  });\n",
              "}\n",
              "\n",
              "/**\n",
              " * Generator function which is called between each async step of the upload\n",
              " * process.\n",
              " * @param {string} inputId Element ID of the input file picker element.\n",
              " * @param {string} outputId Element ID of the output display.\n",
              " * @return {!Iterable<!Object>} Iterable of next steps.\n",
              " */\n",
              "function* uploadFilesStep(inputId, outputId) {\n",
              "  const inputElement = document.getElementById(inputId);\n",
              "  inputElement.disabled = false;\n",
              "\n",
              "  const outputElement = document.getElementById(outputId);\n",
              "  outputElement.innerHTML = '';\n",
              "\n",
              "  const pickedPromise = new Promise((resolve) => {\n",
              "    inputElement.addEventListener('change', (e) => {\n",
              "      resolve(e.target.files);\n",
              "    });\n",
              "  });\n",
              "\n",
              "  const cancel = document.createElement('button');\n",
              "  inputElement.parentElement.appendChild(cancel);\n",
              "  cancel.textContent = 'Cancel upload';\n",
              "  const cancelPromise = new Promise((resolve) => {\n",
              "    cancel.onclick = () => {\n",
              "      resolve(null);\n",
              "    };\n",
              "  });\n",
              "\n",
              "  // Wait for the user to pick the files.\n",
              "  const files = yield {\n",
              "    promise: Promise.race([pickedPromise, cancelPromise]),\n",
              "    response: {\n",
              "      action: 'starting',\n",
              "    }\n",
              "  };\n",
              "\n",
              "  cancel.remove();\n",
              "\n",
              "  // Disable the input element since further picks are not allowed.\n",
              "  inputElement.disabled = true;\n",
              "\n",
              "  if (!files) {\n",
              "    return {\n",
              "      response: {\n",
              "        action: 'complete',\n",
              "      }\n",
              "    };\n",
              "  }\n",
              "\n",
              "  for (const file of files) {\n",
              "    const li = document.createElement('li');\n",
              "    li.append(span(file.name, {fontWeight: 'bold'}));\n",
              "    li.append(span(\n",
              "        `(${file.type || 'n/a'}) - ${file.size} bytes, ` +\n",
              "        `last modified: ${\n",
              "            file.lastModifiedDate ? file.lastModifiedDate.toLocaleDateString() :\n",
              "                                    'n/a'} - `));\n",
              "    const percent = span('0% done');\n",
              "    li.appendChild(percent);\n",
              "\n",
              "    outputElement.appendChild(li);\n",
              "\n",
              "    const fileDataPromise = new Promise((resolve) => {\n",
              "      const reader = new FileReader();\n",
              "      reader.onload = (e) => {\n",
              "        resolve(e.target.result);\n",
              "      };\n",
              "      reader.readAsArrayBuffer(file);\n",
              "    });\n",
              "    // Wait for the data to be ready.\n",
              "    let fileData = yield {\n",
              "      promise: fileDataPromise,\n",
              "      response: {\n",
              "        action: 'continue',\n",
              "      }\n",
              "    };\n",
              "\n",
              "    // Use a chunked sending to avoid message size limits. See b/62115660.\n",
              "    let position = 0;\n",
              "    do {\n",
              "      const length = Math.min(fileData.byteLength - position, MAX_PAYLOAD_SIZE);\n",
              "      const chunk = new Uint8Array(fileData, position, length);\n",
              "      position += length;\n",
              "\n",
              "      const base64 = btoa(String.fromCharCode.apply(null, chunk));\n",
              "      yield {\n",
              "        response: {\n",
              "          action: 'append',\n",
              "          file: file.name,\n",
              "          data: base64,\n",
              "        },\n",
              "      };\n",
              "\n",
              "      let percentDone = fileData.byteLength === 0 ?\n",
              "          100 :\n",
              "          Math.round((position / fileData.byteLength) * 100);\n",
              "      percent.textContent = `${percentDone}% done`;\n",
              "\n",
              "    } while (position < fileData.byteLength);\n",
              "  }\n",
              "\n",
              "  // All done.\n",
              "  yield {\n",
              "    response: {\n",
              "      action: 'complete',\n",
              "    }\n",
              "  };\n",
              "}\n",
              "\n",
              "scope.google = scope.google || {};\n",
              "scope.google.colab = scope.google.colab || {};\n",
              "scope.google.colab._files = {\n",
              "  _uploadFiles,\n",
              "  _uploadFilesContinue,\n",
              "};\n",
              "})(self);\n",
              "</script> "
            ]
          },
          "metadata": {}
        },
        {
          "output_type": "stream",
          "name": "stdout",
          "text": [
            "Saving Sample_image1.jpeg.jpg to Sample_image1.jpeg.jpg\n",
            "/content/ACGPN/inputs\n",
            "/content/ACGPN\n"
          ]
        }
      ]
    },
    {
      "cell_type": "markdown",
      "metadata": {
        "id": "dQP04cGctrOW"
      },
      "source": [
        "### Please upload your person image below"
      ]
    },
    {
      "cell_type": "code",
      "metadata": {
        "id": "_wmUOR92170v",
        "outputId": "8bb65489-0f6c-4731-c5b7-08f87365ec57",
        "colab": {
          "base_uri": "https://localhost:8080/",
          "height": 125
        }
      },
      "source": [
        "%cd inputs/img\n",
        "from google.colab import files\n",
        "uploaded = files.upload()\n",
        "%cd ..\n",
        "%cd .."
      ],
      "execution_count": 12,
      "outputs": [
        {
          "output_type": "stream",
          "name": "stdout",
          "text": [
            "/content/ACGPN/inputs/img\n"
          ]
        },
        {
          "output_type": "display_data",
          "data": {
            "text/plain": [
              "<IPython.core.display.HTML object>"
            ],
            "text/html": [
              "\n",
              "     <input type=\"file\" id=\"files-bdc5280e-05f9-498b-9c61-35faf24d0c1c\" name=\"files[]\" multiple disabled\n",
              "        style=\"border:none\" />\n",
              "     <output id=\"result-bdc5280e-05f9-498b-9c61-35faf24d0c1c\">\n",
              "      Upload widget is only available when the cell has been executed in the\n",
              "      current browser session. Please rerun this cell to enable.\n",
              "      </output>\n",
              "      <script>// Copyright 2017 Google LLC\n",
              "//\n",
              "// Licensed under the Apache License, Version 2.0 (the \"License\");\n",
              "// you may not use this file except in compliance with the License.\n",
              "// You may obtain a copy of the License at\n",
              "//\n",
              "//      http://www.apache.org/licenses/LICENSE-2.0\n",
              "//\n",
              "// Unless required by applicable law or agreed to in writing, software\n",
              "// distributed under the License is distributed on an \"AS IS\" BASIS,\n",
              "// WITHOUT WARRANTIES OR CONDITIONS OF ANY KIND, either express or implied.\n",
              "// See the License for the specific language governing permissions and\n",
              "// limitations under the License.\n",
              "\n",
              "/**\n",
              " * @fileoverview Helpers for google.colab Python module.\n",
              " */\n",
              "(function(scope) {\n",
              "function span(text, styleAttributes = {}) {\n",
              "  const element = document.createElement('span');\n",
              "  element.textContent = text;\n",
              "  for (const key of Object.keys(styleAttributes)) {\n",
              "    element.style[key] = styleAttributes[key];\n",
              "  }\n",
              "  return element;\n",
              "}\n",
              "\n",
              "// Max number of bytes which will be uploaded at a time.\n",
              "const MAX_PAYLOAD_SIZE = 100 * 1024;\n",
              "\n",
              "function _uploadFiles(inputId, outputId) {\n",
              "  const steps = uploadFilesStep(inputId, outputId);\n",
              "  const outputElement = document.getElementById(outputId);\n",
              "  // Cache steps on the outputElement to make it available for the next call\n",
              "  // to uploadFilesContinue from Python.\n",
              "  outputElement.steps = steps;\n",
              "\n",
              "  return _uploadFilesContinue(outputId);\n",
              "}\n",
              "\n",
              "// This is roughly an async generator (not supported in the browser yet),\n",
              "// where there are multiple asynchronous steps and the Python side is going\n",
              "// to poll for completion of each step.\n",
              "// This uses a Promise to block the python side on completion of each step,\n",
              "// then passes the result of the previous step as the input to the next step.\n",
              "function _uploadFilesContinue(outputId) {\n",
              "  const outputElement = document.getElementById(outputId);\n",
              "  const steps = outputElement.steps;\n",
              "\n",
              "  const next = steps.next(outputElement.lastPromiseValue);\n",
              "  return Promise.resolve(next.value.promise).then((value) => {\n",
              "    // Cache the last promise value to make it available to the next\n",
              "    // step of the generator.\n",
              "    outputElement.lastPromiseValue = value;\n",
              "    return next.value.response;\n",
              "  });\n",
              "}\n",
              "\n",
              "/**\n",
              " * Generator function which is called between each async step of the upload\n",
              " * process.\n",
              " * @param {string} inputId Element ID of the input file picker element.\n",
              " * @param {string} outputId Element ID of the output display.\n",
              " * @return {!Iterable<!Object>} Iterable of next steps.\n",
              " */\n",
              "function* uploadFilesStep(inputId, outputId) {\n",
              "  const inputElement = document.getElementById(inputId);\n",
              "  inputElement.disabled = false;\n",
              "\n",
              "  const outputElement = document.getElementById(outputId);\n",
              "  outputElement.innerHTML = '';\n",
              "\n",
              "  const pickedPromise = new Promise((resolve) => {\n",
              "    inputElement.addEventListener('change', (e) => {\n",
              "      resolve(e.target.files);\n",
              "    });\n",
              "  });\n",
              "\n",
              "  const cancel = document.createElement('button');\n",
              "  inputElement.parentElement.appendChild(cancel);\n",
              "  cancel.textContent = 'Cancel upload';\n",
              "  const cancelPromise = new Promise((resolve) => {\n",
              "    cancel.onclick = () => {\n",
              "      resolve(null);\n",
              "    };\n",
              "  });\n",
              "\n",
              "  // Wait for the user to pick the files.\n",
              "  const files = yield {\n",
              "    promise: Promise.race([pickedPromise, cancelPromise]),\n",
              "    response: {\n",
              "      action: 'starting',\n",
              "    }\n",
              "  };\n",
              "\n",
              "  cancel.remove();\n",
              "\n",
              "  // Disable the input element since further picks are not allowed.\n",
              "  inputElement.disabled = true;\n",
              "\n",
              "  if (!files) {\n",
              "    return {\n",
              "      response: {\n",
              "        action: 'complete',\n",
              "      }\n",
              "    };\n",
              "  }\n",
              "\n",
              "  for (const file of files) {\n",
              "    const li = document.createElement('li');\n",
              "    li.append(span(file.name, {fontWeight: 'bold'}));\n",
              "    li.append(span(\n",
              "        `(${file.type || 'n/a'}) - ${file.size} bytes, ` +\n",
              "        `last modified: ${\n",
              "            file.lastModifiedDate ? file.lastModifiedDate.toLocaleDateString() :\n",
              "                                    'n/a'} - `));\n",
              "    const percent = span('0% done');\n",
              "    li.appendChild(percent);\n",
              "\n",
              "    outputElement.appendChild(li);\n",
              "\n",
              "    const fileDataPromise = new Promise((resolve) => {\n",
              "      const reader = new FileReader();\n",
              "      reader.onload = (e) => {\n",
              "        resolve(e.target.result);\n",
              "      };\n",
              "      reader.readAsArrayBuffer(file);\n",
              "    });\n",
              "    // Wait for the data to be ready.\n",
              "    let fileData = yield {\n",
              "      promise: fileDataPromise,\n",
              "      response: {\n",
              "        action: 'continue',\n",
              "      }\n",
              "    };\n",
              "\n",
              "    // Use a chunked sending to avoid message size limits. See b/62115660.\n",
              "    let position = 0;\n",
              "    do {\n",
              "      const length = Math.min(fileData.byteLength - position, MAX_PAYLOAD_SIZE);\n",
              "      const chunk = new Uint8Array(fileData, position, length);\n",
              "      position += length;\n",
              "\n",
              "      const base64 = btoa(String.fromCharCode.apply(null, chunk));\n",
              "      yield {\n",
              "        response: {\n",
              "          action: 'append',\n",
              "          file: file.name,\n",
              "          data: base64,\n",
              "        },\n",
              "      };\n",
              "\n",
              "      let percentDone = fileData.byteLength === 0 ?\n",
              "          100 :\n",
              "          Math.round((position / fileData.byteLength) * 100);\n",
              "      percent.textContent = `${percentDone}% done`;\n",
              "\n",
              "    } while (position < fileData.byteLength);\n",
              "  }\n",
              "\n",
              "  // All done.\n",
              "  yield {\n",
              "    response: {\n",
              "      action: 'complete',\n",
              "    }\n",
              "  };\n",
              "}\n",
              "\n",
              "scope.google = scope.google || {};\n",
              "scope.google.colab = scope.google.colab || {};\n",
              "scope.google.colab._files = {\n",
              "  _uploadFiles,\n",
              "  _uploadFilesContinue,\n",
              "};\n",
              "})(self);\n",
              "</script> "
            ]
          },
          "metadata": {}
        },
        {
          "output_type": "stream",
          "name": "stdout",
          "text": [
            "Saving PHOTO-2025-04-16-23-09-35.jpg to PHOTO-2025-04-16-23-09-35.jpg\n",
            "/content/ACGPN/inputs\n",
            "/content/ACGPN\n"
          ]
        }
      ]
    },
    {
      "cell_type": "code",
      "metadata": {
        "id": "hBXPbfF5XYRB",
        "outputId": "c74a7f6b-4e41-411c-9e7d-cfe2b8712871",
        "colab": {
          "base_uri": "https://localhost:8080/"
        }
      },
      "source": [
        "sorted(os.listdir('inputs/cloth'))"
      ],
      "execution_count": 13,
      "outputs": [
        {
          "output_type": "execute_result",
          "data": {
            "text/plain": [
              "['Sample_image1.jpeg.jpg']"
            ]
          },
          "metadata": {},
          "execution_count": 13
        }
      ]
    },
    {
      "cell_type": "code",
      "metadata": {
        "id": "Tm-9Up6z0Zpg",
        "outputId": "e50dd1aa-1b1b-41e4-9f55-5ee01a18b1ef",
        "colab": {
          "base_uri": "https://localhost:8080/"
        }
      },
      "source": [
        "cloth_name = '000001_1.png'\n",
        "cloth_path = os.path.join('inputs/cloth', sorted(os.listdir('inputs/cloth'))[0])\n",
        "cloth = Image.open(cloth_path)\n",
        "cloth = cloth.resize((192, 256), Image.BICUBIC).convert('RGB')\n",
        "cloth.save(os.path.join('Data_preprocessing/test_color', cloth_name))\n",
        "\n",
        "u2net_run.infer(u2net, 'Data_preprocessing/test_color', 'Data_preprocessing/test_edge')"
      ],
      "execution_count": 14,
      "outputs": [
        {
          "output_type": "stream",
          "name": "stdout",
          "text": [
            "Generating mask for: 000001_1.png\n",
            "Saving output at Data_preprocessing/test_edge/000001_1.png\n"
          ]
        }
      ]
    },
    {
      "cell_type": "code",
      "metadata": {
        "id": "tj8vmpyXX0tx",
        "outputId": "85522137-2ce5-4805-cfe9-3bd9f158bfeb",
        "colab": {
          "base_uri": "https://localhost:8080/"
        }
      },
      "source": [
        "os.listdir('inputs/img')"
      ],
      "execution_count": 15,
      "outputs": [
        {
          "output_type": "execute_result",
          "data": {
            "text/plain": [
              "['PHOTO-2025-04-16-23-09-35.jpg']"
            ]
          },
          "metadata": {},
          "execution_count": 15
        }
      ]
    },
    {
      "cell_type": "code",
      "source": [
        "!wget https://media.githubusercontent.com/media/foss-for-synopsys-dwc-arc-processors/synopsys-caffe-models/master/caffe_models/openpose/caffe_model/pose_iter_440000.caffemodel"
      ],
      "metadata": {
        "id": "XINJOtZUENcD",
        "outputId": "09568682-c371-43d4-b556-11b71fd86a0d",
        "colab": {
          "base_uri": "https://localhost:8080/"
        }
      },
      "execution_count": 17,
      "outputs": [
        {
          "output_type": "stream",
          "name": "stdout",
          "text": [
            "--2025-04-17 23:24:21--  https://media.githubusercontent.com/media/foss-for-synopsys-dwc-arc-processors/synopsys-caffe-models/master/caffe_models/openpose/caffe_model/pose_iter_440000.caffemodel\n",
            "Resolving media.githubusercontent.com (media.githubusercontent.com)... 185.199.109.133, 185.199.110.133, 185.199.108.133, ...\n",
            "Connecting to media.githubusercontent.com (media.githubusercontent.com)|185.199.109.133|:443... connected.\n",
            "HTTP request sent, awaiting response... 200 OK\n",
            "Length: 209274056 (200M) [application/octet-stream]\n",
            "Saving to: ‘pose_iter_440000.caffemodel’\n",
            "\n",
            "pose_iter_440000.ca 100%[===================>] 199.58M   269MB/s    in 0.7s    \n",
            "\n",
            "2025-04-17 23:24:26 (269 MB/s) - ‘pose_iter_440000.caffemodel’ saved [209274056/209274056]\n",
            "\n"
          ]
        }
      ]
    },
    {
      "cell_type": "code",
      "metadata": {
        "id": "Y3aHah45D655",
        "outputId": "e16263b1-17d7-488e-fbfc-e6eb1b972bfd",
        "colab": {
          "base_uri": "https://localhost:8080/"
        }
      },
      "source": [
        "import time\n",
        "\n",
        "start_time = time.time()\n",
        "img_name = '000001_0.png'\n",
        "img_path = os.path.join('inputs/img', sorted(os.listdir('inputs/img'))[0])\n",
        "img = Image.open(img_path)\n",
        "img = img.resize((192,256), Image.BICUBIC)\n",
        "\n",
        "img_path = os.path.join('Data_preprocessing/test_img', img_name)\n",
        "img.save(img_path)\n",
        "resize_time = time.time()\n",
        "print('Resized image in {}s'.format(resize_time-start_time))\n",
        "\n",
        "!python3 Self-Correction-Human-Parsing-for-ACGPN/simple_extractor.py --dataset 'lip' --model-restore 'lip_final.pth' --input-dir 'Data_preprocessing/test_img' --output-dir 'Data_preprocessing/test_label'\n",
        "parse_time = time.time()\n",
        "print('Parsing generated in {}s'.format(parse_time-resize_time))\n",
        "\n",
        "pose_path = os.path.join('Data_preprocessing/test_pose', img_name.replace('.png', '_keypoints.json'))\n",
        "generate_pose_keypoints(img_path, pose_path)\n",
        "pose_time = time.time()\n",
        "print('Pose map generated in {}s'.format(pose_time-parse_time))"
      ],
      "execution_count": 18,
      "outputs": [
        {
          "output_type": "stream",
          "name": "stdout",
          "text": [
            "Resized image in 0.006510019302368164s\n",
            "/usr/local/lib/python3.11/dist-packages/torch/utils/cpp_extension.py:2059: UserWarning: TORCH_CUDA_ARCH_LIST is not set, all archs for visible cards are included for compilation. \n",
            "If this is not desired, please set os.environ['TORCH_CUDA_ARCH_LIST'].\n",
            "  warnings.warn(\n",
            "Traceback (most recent call last):\n",
            "  File \"/usr/local/lib/python3.11/dist-packages/torch/utils/cpp_extension.py\", line 2209, in _run_ninja_build\n",
            "    subprocess.run(\n",
            "  File \"/usr/lib/python3.11/subprocess.py\", line 571, in run\n",
            "    raise CalledProcessError(retcode, process.args,\n",
            "subprocess.CalledProcessError: Command '['ninja', '-v']' returned non-zero exit status 1.\n",
            "\n",
            "The above exception was the direct cause of the following exception:\n",
            "\n",
            "Traceback (most recent call last):\n",
            "  File \"/content/ACGPN/Self-Correction-Human-Parsing-for-ACGPN/simple_extractor.py\", line 24, in <module>\n",
            "    import networks\n",
            "  File \"/content/ACGPN/Self-Correction-Human-Parsing-for-ACGPN/networks/__init__.py\", line 3, in <module>\n",
            "    from networks.AugmentCE2P import resnet101\n",
            "  File \"/content/ACGPN/Self-Correction-Human-Parsing-for-ACGPN/networks/AugmentCE2P.py\", line 21, in <module>\n",
            "    from modules import InPlaceABNSync\n",
            "  File \"/content/ACGPN/Self-Correction-Human-Parsing-for-ACGPN/modules/__init__.py\", line 1, in <module>\n",
            "    from .bn import ABN, InPlaceABN, InPlaceABNSync\n",
            "  File \"/content/ACGPN/Self-Correction-Human-Parsing-for-ACGPN/modules/bn.py\", line 10, in <module>\n",
            "    from .functions import *\n",
            "  File \"/content/ACGPN/Self-Correction-Human-Parsing-for-ACGPN/modules/functions.py\", line 10, in <module>\n",
            "    _backend = load(name=\"inplace_abn\",\n",
            "               ^^^^^^^^^^^^^^^^^^^^^^^^\n",
            "  File \"/usr/local/lib/python3.11/dist-packages/torch/utils/cpp_extension.py\", line 1380, in load\n",
            "    return _jit_compile(\n",
            "           ^^^^^^^^^^^^^\n",
            "  File \"/usr/local/lib/python3.11/dist-packages/torch/utils/cpp_extension.py\", line 1798, in _jit_compile\n",
            "    _write_ninja_file_and_build_library(\n",
            "  File \"/usr/local/lib/python3.11/dist-packages/torch/utils/cpp_extension.py\", line 1926, in _write_ninja_file_and_build_library\n",
            "    _run_ninja_build(\n",
            "  File \"/usr/local/lib/python3.11/dist-packages/torch/utils/cpp_extension.py\", line 2225, in _run_ninja_build\n",
            "    raise RuntimeError(message) from e\n",
            "RuntimeError: Error building extension 'inplace_abn': [1/4] c++ -MMD -MF inplace_abn_cpu.o.d -DTORCH_EXTENSION_NAME=inplace_abn -DTORCH_API_INCLUDE_EXTENSION_H -DPYBIND11_COMPILER_TYPE=\\\"_gcc\\\" -DPYBIND11_STDLIB=\\\"_libstdcpp\\\" -DPYBIND11_BUILD_ABI=\\\"_cxxabi1011\\\" -isystem /usr/local/lib/python3.11/dist-packages/torch/include -isystem /usr/local/lib/python3.11/dist-packages/torch/include/torch/csrc/api/include -isystem /usr/local/lib/python3.11/dist-packages/torch/include/TH -isystem /usr/local/lib/python3.11/dist-packages/torch/include/THC -isystem /usr/local/cuda/include -isystem /usr/include/python3.11 -D_GLIBCXX_USE_CXX11_ABI=0 -fPIC -std=c++17 -O3 -c /content/ACGPN/Self-Correction-Human-Parsing-for-ACGPN/modules/src/inplace_abn_cpu.cpp -o inplace_abn_cpu.o \n",
            "FAILED: inplace_abn_cpu.o \n",
            "c++ -MMD -MF inplace_abn_cpu.o.d -DTORCH_EXTENSION_NAME=inplace_abn -DTORCH_API_INCLUDE_EXTENSION_H -DPYBIND11_COMPILER_TYPE=\\\"_gcc\\\" -DPYBIND11_STDLIB=\\\"_libstdcpp\\\" -DPYBIND11_BUILD_ABI=\\\"_cxxabi1011\\\" -isystem /usr/local/lib/python3.11/dist-packages/torch/include -isystem /usr/local/lib/python3.11/dist-packages/torch/include/torch/csrc/api/include -isystem /usr/local/lib/python3.11/dist-packages/torch/include/TH -isystem /usr/local/lib/python3.11/dist-packages/torch/include/THC -isystem /usr/local/cuda/include -isystem /usr/include/python3.11 -D_GLIBCXX_USE_CXX11_ABI=0 -fPIC -std=c++17 -O3 -c /content/ACGPN/Self-Correction-Human-Parsing-for-ACGPN/modules/src/inplace_abn_cpu.cpp -o inplace_abn_cpu.o \n",
            "In file included from /usr/local/lib/python3.11/dist-packages/torch/include/ATen/BlasBackend.h:3,\n",
            "                 from /usr/local/lib/python3.11/dist-packages/torch/include/ATen/Context.h:3,\n",
            "                 from /usr/local/lib/python3.11/dist-packages/torch/include/ATen/ATen.h:7,\n",
            "                 from /content/ACGPN/Self-Correction-Human-Parsing-for-ACGPN/modules/src/inplace_abn_cpu.cpp:1:\n",
            "/content/ACGPN/Self-Correction-Human-Parsing-for-ACGPN/modules/src/inplace_abn_cpu.cpp: In function ‘void leaky_relu_backward_cpu(at::Tensor, at::Tensor, float)’:\n",
            "/content/ACGPN/Self-Correction-Human-Parsing-for-ACGPN/modules/src/utils/checks.h:11:40: warning: ‘at::DeprecatedTypeProperties& at::Tensor::type() const’ is deprecated: Tensor.type() is deprecated. Instead use Tensor.options(), which in many cases (e.g. in a constructor) is a drop-in replacement. If you were using data from type(), that is now available from Tensor itself, so instead of tensor.type().scalar_type(), use tensor.scalar_type() instead and instead of tensor.type().backend() use tensor.device(). [-Wdeprecated-declarations]\n",
            "   11 | #define CHECK_CPU(x) AT_CHECK(!(x).type().is_cuda(), #x \" must be a CPU tensor\")\n",
            "      |                                ~~~~~~~~^~\n",
            "/content/ACGPN/Self-Correction-Human-Parsing-for-ACGPN/modules/src/utils/checks.h:15:28: note: in expansion of macro ‘CHECK_CPU’\n",
            "   15 | #define CHECK_CPU_INPUT(x) CHECK_CPU(x); CHECK_CONTIGUOUS(x)\n",
            "      |                            ^~~~~~~~~\n",
            "/content/ACGPN/Self-Correction-Human-Parsing-for-ACGPN/modules/src/inplace_abn_cpu.cpp:86:3: note: in expansion of macro ‘CHECK_CPU_INPUT’\n",
            "   86 |   CHECK_CPU_INPUT(z);\n",
            "      |   ^~~~~~~~~~~~~~~\n",
            "In file included from /usr/local/lib/python3.11/dist-packages/torch/include/ATen/core/ivalue.h:4,\n",
            "                 from /usr/local/lib/python3.11/dist-packages/torch/include/ATen/core/List_inl.h:4,\n",
            "                 from /usr/local/lib/python3.11/dist-packages/torch/include/ATen/core/List.h:491,\n",
            "                 from /usr/local/lib/python3.11/dist-packages/torch/include/ATen/core/IListRef_inl.h:3,\n",
            "                 from /usr/local/lib/python3.11/dist-packages/torch/include/ATen/core/IListRef.h:631,\n",
            "                 from /usr/local/lib/python3.11/dist-packages/torch/include/ATen/DeviceGuard.h:3,\n",
            "                 from /usr/local/lib/python3.11/dist-packages/torch/include/ATen/ATen.h:9,\n",
            "                 from /content/ACGPN/Self-Correction-Human-Parsing-for-ACGPN/modules/src/inplace_abn_cpu.cpp:1:\n",
            "/usr/local/lib/python3.11/dist-packages/torch/include/ATen/core/TensorBody.h:225:30: note: declared here\n",
            "  225 |   DeprecatedTypeProperties & type() const {\n",
            "      |                              ^~~~\n",
            "In file included from /usr/local/lib/python3.11/dist-packages/torch/include/ATen/BlasBackend.h:3,\n",
            "                 from /usr/local/lib/python3.11/dist-packages/torch/include/ATen/Context.h:3,\n",
            "                 from /usr/local/lib/python3.11/dist-packages/torch/include/ATen/ATen.h:7,\n",
            "                 from /content/ACGPN/Self-Correction-Human-Parsing-for-ACGPN/modules/src/inplace_abn_cpu.cpp:1:\n",
            "/content/ACGPN/Self-Correction-Human-Parsing-for-ACGPN/modules/src/utils/checks.h:11:40: warning: ‘at::DeprecatedTypeProperties& at::Tensor::type() const’ is deprecated: Tensor.type() is deprecated. Instead use Tensor.options(), which in many cases (e.g. in a constructor) is a drop-in replacement. If you were using data from type(), that is now available from Tensor itself, so instead of tensor.type().scalar_type(), use tensor.scalar_type() instead and instead of tensor.type().backend() use tensor.device(). [-Wdeprecated-declarations]\n",
            "   11 | #define CHECK_CPU(x) AT_CHECK(!(x).type().is_cuda(), #x \" must be a CPU tensor\")\n",
            "      |                                ~~~~~~~~^~\n",
            "/content/ACGPN/Self-Correction-Human-Parsing-for-ACGPN/modules/src/utils/checks.h:15:28: note: in expansion of macro ‘CHECK_CPU’\n",
            "   15 | #define CHECK_CPU_INPUT(x) CHECK_CPU(x); CHECK_CONTIGUOUS(x)\n",
            "      |                            ^~~~~~~~~\n",
            "/content/ACGPN/Self-Correction-Human-Parsing-for-ACGPN/modules/src/inplace_abn_cpu.cpp:87:3: note: in expansion of macro ‘CHECK_CPU_INPUT’\n",
            "   87 |   CHECK_CPU_INPUT(dz);\n",
            "      |   ^~~~~~~~~~~~~~~\n",
            "In file included from /usr/local/lib/python3.11/dist-packages/torch/include/ATen/core/ivalue.h:4,\n",
            "                 from /usr/local/lib/python3.11/dist-packages/torch/include/ATen/core/List_inl.h:4,\n",
            "                 from /usr/local/lib/python3.11/dist-packages/torch/include/ATen/core/List.h:491,\n",
            "                 from /usr/local/lib/python3.11/dist-packages/torch/include/ATen/core/IListRef_inl.h:3,\n",
            "                 from /usr/local/lib/python3.11/dist-packages/torch/include/ATen/core/IListRef.h:631,\n",
            "                 from /usr/local/lib/python3.11/dist-packages/torch/include/ATen/DeviceGuard.h:3,\n",
            "                 from /usr/local/lib/python3.11/dist-packages/torch/include/ATen/ATen.h:9,\n",
            "                 from /content/ACGPN/Self-Correction-Human-Parsing-for-ACGPN/modules/src/inplace_abn_cpu.cpp:1:\n",
            "/usr/local/lib/python3.11/dist-packages/torch/include/ATen/core/TensorBody.h:225:30: note: declared here\n",
            "  225 |   DeprecatedTypeProperties & type() const {\n",
            "      |                              ^~~~\n",
            "In file included from /usr/local/lib/python3.11/dist-packages/torch/include/ATen/ATen.h:11,\n",
            "                 from /content/ACGPN/Self-Correction-Human-Parsing-for-ACGPN/modules/src/inplace_abn_cpu.cpp:1:\n",
            "/content/ACGPN/Self-Correction-Human-Parsing-for-ACGPN/modules/src/inplace_abn_cpu.cpp: In lambda function:\n",
            "/content/ACGPN/Self-Correction-Human-Parsing-for-ACGPN/modules/src/inplace_abn_cpu.cpp:89:36: warning: ‘at::DeprecatedTypeProperties& at::Tensor::type() const’ is deprecated: Tensor.type() is deprecated. Instead use Tensor.options(), which in many cases (e.g. in a constructor) is a drop-in replacement. If you were using data from type(), that is now available from Tensor itself, so instead of tensor.type().scalar_type(), use tensor.scalar_type() instead and instead of tensor.type().backend() use tensor.device(). [-Wdeprecated-declarations]\n",
            "   89 |   AT_DISPATCH_FLOATING_TYPES(z.type(), \"leaky_relu_backward_cpu\", ([&] {\n",
            "      |                              ~~~~~~^~\n",
            "In file included from /usr/local/lib/python3.11/dist-packages/torch/include/ATen/core/ivalue.h:4,\n",
            "                 from /usr/local/lib/python3.11/dist-packages/torch/include/ATen/core/List_inl.h:4,\n",
            "                 from /usr/local/lib/python3.11/dist-packages/torch/include/ATen/core/List.h:491,\n",
            "                 from /usr/local/lib/python3.11/dist-packages/torch/include/ATen/core/IListRef_inl.h:3,\n",
            "                 from /usr/local/lib/python3.11/dist-packages/torch/include/ATen/core/IListRef.h:631,\n",
            "                 from /usr/local/lib/python3.11/dist-packages/torch/include/ATen/DeviceGuard.h:3,\n",
            "                 from /usr/local/lib/python3.11/dist-packages/torch/include/ATen/ATen.h:9,\n",
            "                 from /content/ACGPN/Self-Correction-Human-Parsing-for-ACGPN/modules/src/inplace_abn_cpu.cpp:1:\n",
            "/usr/local/lib/python3.11/dist-packages/torch/include/ATen/core/TensorBody.h:225:30: note: declared here\n",
            "  225 |   DeprecatedTypeProperties & type() const {\n",
            "      |                              ^~~~\n",
            "In file included from /usr/local/lib/python3.11/dist-packages/torch/include/ATen/ATen.h:11,\n",
            "                 from /content/ACGPN/Self-Correction-Human-Parsing-for-ACGPN/modules/src/inplace_abn_cpu.cpp:1:\n",
            "/content/ACGPN/Self-Correction-Human-Parsing-for-ACGPN/modules/src/inplace_abn_cpu.cpp:89:3: error: cannot convert ‘const at::DeprecatedTypeProperties’ to ‘c10::ScalarType’\n",
            "   89 |   AT_DISPATCH_FLOATING_TYPES(z.type(), \"leaky_relu_backward_cpu\", ([&] {\n",
            "      |   ^~~~~~~~~~~~~~~~~~~~~~~~~~\n",
            "      |   |\n",
            "      |   const at::DeprecatedTypeProperties\n",
            "/usr/local/lib/python3.11/dist-packages/torch/include/ATen/Dispatch.h:101:50: note:   initializing argument 1 of ‘c10::ScalarType detail::scalar_type(c10::ScalarType)’\n",
            "  101 | inline at::ScalarType scalar_type(at::ScalarType s) {\n",
            "      |                                   ~~~~~~~~~~~~~~~^\n",
            "/content/ACGPN/Self-Correction-Human-Parsing-for-ACGPN/modules/src/inplace_abn_cpu.cpp: In lambda function:\n",
            "/content/ACGPN/Self-Correction-Human-Parsing-for-ACGPN/modules/src/inplace_abn_cpu.cpp:91:32: warning: ‘T* at::Tensor::data() const [with T = double]’ is deprecated: Tensor.data<T>() is deprecated. Please use Tensor.data_ptr<T>() instead. [-Wdeprecated-declarations]\n",
            "   91 |     auto *_z = z.data<scalar_t>();\n",
            "      |                ~~~~~~~~~~~~~~~~^~\n",
            "In file included from /usr/local/lib/python3.11/dist-packages/torch/include/ATen/core/ivalue.h:4,\n",
            "                 from /usr/local/lib/python3.11/dist-packages/torch/include/ATen/core/List_inl.h:4,\n",
            "                 from /usr/local/lib/python3.11/dist-packages/torch/include/ATen/core/List.h:491,\n",
            "                 from /usr/local/lib/python3.11/dist-packages/torch/include/ATen/core/IListRef_inl.h:3,\n",
            "                 from /usr/local/lib/python3.11/dist-packages/torch/include/ATen/core/IListRef.h:631,\n",
            "                 from /usr/local/lib/python3.11/dist-packages/torch/include/ATen/DeviceGuard.h:3,\n",
            "                 from /usr/local/lib/python3.11/dist-packages/torch/include/ATen/ATen.h:9,\n",
            "                 from /content/ACGPN/Self-Correction-Human-Parsing-for-ACGPN/modules/src/inplace_abn_cpu.cpp:1:\n",
            "/usr/local/lib/python3.11/dist-packages/torch/include/ATen/core/TensorBody.h:247:7: note: declared here\n",
            "  247 |   T * data() const {\n",
            "      |       ^~~~\n",
            "In file included from /usr/local/lib/python3.11/dist-packages/torch/include/ATen/ATen.h:11,\n",
            "                 from /content/ACGPN/Self-Correction-Human-Parsing-for-ACGPN/modules/src/inplace_abn_cpu.cpp:1:\n",
            "/content/ACGPN/Self-Correction-Human-Parsing-for-ACGPN/modules/src/inplace_abn_cpu.cpp:92:34: warning: ‘T* at::Tensor::data() const [with T = double]’ is deprecated: Tensor.data<T>() is deprecated. Please use Tensor.data_ptr<T>() instead. [-Wdeprecated-declarations]\n",
            "   92 |     auto *_dz = dz.data<scalar_t>();\n",
            "      |                 ~~~~~~~~~~~~~~~~~^~\n",
            "In file included from /usr/local/lib/python3.11/dist-packages/torch/include/ATen/core/ivalue.h:4,\n",
            "                 from /usr/local/lib/python3.11/dist-packages/torch/include/ATen/core/List_inl.h:4,\n",
            "                 from /usr/local/lib/python3.11/dist-packages/torch/include/ATen/core/List.h:491,\n",
            "                 from /usr/local/lib/python3.11/dist-packages/torch/include/ATen/core/IListRef_inl.h:3,\n",
            "                 from /usr/local/lib/python3.11/dist-packages/torch/include/ATen/core/IListRef.h:631,\n",
            "                 from /usr/local/lib/python3.11/dist-packages/torch/include/ATen/DeviceGuard.h:3,\n",
            "                 from /usr/local/lib/python3.11/dist-packages/torch/include/ATen/ATen.h:9,\n",
            "                 from /content/ACGPN/Self-Correction-Human-Parsing-for-ACGPN/modules/src/inplace_abn_cpu.cpp:1:\n",
            "/usr/local/lib/python3.11/dist-packages/torch/include/ATen/core/TensorBody.h:247:7: note: declared here\n",
            "  247 |   T * data() const {\n",
            "      |       ^~~~\n",
            "In file included from /usr/local/lib/python3.11/dist-packages/torch/include/ATen/ATen.h:11,\n",
            "                 from /content/ACGPN/Self-Correction-Human-Parsing-for-ACGPN/modules/src/inplace_abn_cpu.cpp:1:\n",
            "/content/ACGPN/Self-Correction-Human-Parsing-for-ACGPN/modules/src/inplace_abn_cpu.cpp: In lambda function:\n",
            "/content/ACGPN/Self-Correction-Human-Parsing-for-ACGPN/modules/src/inplace_abn_cpu.cpp:91:32: warning: ‘T* at::Tensor::data() const [with T = float]’ is deprecated: Tensor.data<T>() is deprecated. Please use Tensor.data_ptr<T>() instead. [-Wdeprecated-declarations]\n",
            "   91 |     auto *_z = z.data<scalar_t>();\n",
            "      |                ~~~~~~~~~~~~~~~~^~\n",
            "In file included from /usr/local/lib/python3.11/dist-packages/torch/include/ATen/core/ivalue.h:4,\n",
            "                 from /usr/local/lib/python3.11/dist-packages/torch/include/ATen/core/List_inl.h:4,\n",
            "                 from /usr/local/lib/python3.11/dist-packages/torch/include/ATen/core/List.h:491,\n",
            "                 from /usr/local/lib/python3.11/dist-packages/torch/include/ATen/core/IListRef_inl.h:3,\n",
            "                 from /usr/local/lib/python3.11/dist-packages/torch/include/ATen/core/IListRef.h:631,\n",
            "                 from /usr/local/lib/python3.11/dist-packages/torch/include/ATen/DeviceGuard.h:3,\n",
            "                 from /usr/local/lib/python3.11/dist-packages/torch/include/ATen/ATen.h:9,\n",
            "                 from /content/ACGPN/Self-Correction-Human-Parsing-for-ACGPN/modules/src/inplace_abn_cpu.cpp:1:\n",
            "/usr/local/lib/python3.11/dist-packages/torch/include/ATen/core/TensorBody.h:247:7: note: declared here\n",
            "  247 |   T * data() const {\n",
            "      |       ^~~~\n",
            "In file included from /usr/local/lib/python3.11/dist-packages/torch/include/ATen/ATen.h:11,\n",
            "                 from /content/ACGPN/Self-Correction-Human-Parsing-for-ACGPN/modules/src/inplace_abn_cpu.cpp:1:\n",
            "/content/ACGPN/Self-Correction-Human-Parsing-for-ACGPN/modules/src/inplace_abn_cpu.cpp:92:34: warning: ‘T* at::Tensor::data() const [with T = float]’ is deprecated: Tensor.data<T>() is deprecated. Please use Tensor.data_ptr<T>() instead. [-Wdeprecated-declarations]\n",
            "   92 |     auto *_dz = dz.data<scalar_t>();\n",
            "      |                 ~~~~~~~~~~~~~~~~~^~\n",
            "In file included from /usr/local/lib/python3.11/dist-packages/torch/include/ATen/core/ivalue.h:4,\n",
            "                 from /usr/local/lib/python3.11/dist-packages/torch/include/ATen/core/List_inl.h:4,\n",
            "                 from /usr/local/lib/python3.11/dist-packages/torch/include/ATen/core/List.h:491,\n",
            "                 from /usr/local/lib/python3.11/dist-packages/torch/include/ATen/core/IListRef_inl.h:3,\n",
            "                 from /usr/local/lib/python3.11/dist-packages/torch/include/ATen/core/IListRef.h:631,\n",
            "                 from /usr/local/lib/python3.11/dist-packages/torch/include/ATen/DeviceGuard.h:3,\n",
            "                 from /usr/local/lib/python3.11/dist-packages/torch/include/ATen/ATen.h:9,\n",
            "                 from /content/ACGPN/Self-Correction-Human-Parsing-for-ACGPN/modules/src/inplace_abn_cpu.cpp:1:\n",
            "/usr/local/lib/python3.11/dist-packages/torch/include/ATen/core/TensorBody.h:247:7: note: declared here\n",
            "  247 |   T * data() const {\n",
            "      |       ^~~~\n",
            "In file included from /usr/local/lib/python3.11/dist-packages/torch/include/ATen/BlasBackend.h:3,\n",
            "                 from /usr/local/lib/python3.11/dist-packages/torch/include/ATen/Context.h:3,\n",
            "                 from /usr/local/lib/python3.11/dist-packages/torch/include/ATen/ATen.h:7,\n",
            "                 from /content/ACGPN/Self-Correction-Human-Parsing-for-ACGPN/modules/src/inplace_abn_cpu.cpp:1:\n",
            "/content/ACGPN/Self-Correction-Human-Parsing-for-ACGPN/modules/src/inplace_abn_cpu.cpp: In function ‘void elu_backward_cpu(at::Tensor, at::Tensor)’:\n",
            "/content/ACGPN/Self-Correction-Human-Parsing-for-ACGPN/modules/src/utils/checks.h:11:40: warning: ‘at::DeprecatedTypeProperties& at::Tensor::type() const’ is deprecated: Tensor.type() is deprecated. Instead use Tensor.options(), which in many cases (e.g. in a constructor) is a drop-in replacement. If you were using data from type(), that is now available from Tensor itself, so instead of tensor.type().scalar_type(), use tensor.scalar_type() instead and instead of tensor.type().backend() use tensor.device(). [-Wdeprecated-declarations]\n",
            "   11 | #define CHECK_CPU(x) AT_CHECK(!(x).type().is_cuda(), #x \" must be a CPU tensor\")\n",
            "      |                                ~~~~~~~~^~\n",
            "/content/ACGPN/Self-Correction-Human-Parsing-for-ACGPN/modules/src/utils/checks.h:15:28: note: in expansion of macro ‘CHECK_CPU’\n",
            "   15 | #define CHECK_CPU_INPUT(x) CHECK_CPU(x); CHECK_CONTIGUOUS(x)\n",
            "      |                            ^~~~~~~~~\n",
            "/content/ACGPN/Self-Correction-Human-Parsing-for-ACGPN/modules/src/inplace_abn_cpu.cpp:104:3: note: in expansion of macro ‘CHECK_CPU_INPUT’\n",
            "  104 |   CHECK_CPU_INPUT(z);\n",
            "      |   ^~~~~~~~~~~~~~~\n",
            "In file included from /usr/local/lib/python3.11/dist-packages/torch/include/ATen/core/ivalue.h:4,\n",
            "                 from /usr/local/lib/python3.11/dist-packages/torch/include/ATen/core/List_inl.h:4,\n",
            "                 from /usr/local/lib/python3.11/dist-packages/torch/include/ATen/core/List.h:491,\n",
            "                 from /usr/local/lib/python3.11/dist-packages/torch/include/ATen/core/IListRef_inl.h:3,\n",
            "                 from /usr/local/lib/python3.11/dist-packages/torch/include/ATen/core/IListRef.h:631,\n",
            "                 from /usr/local/lib/python3.11/dist-packages/torch/include/ATen/DeviceGuard.h:3,\n",
            "                 from /usr/local/lib/python3.11/dist-packages/torch/include/ATen/ATen.h:9,\n",
            "                 from /content/ACGPN/Self-Correction-Human-Parsing-for-ACGPN/modules/src/inplace_abn_cpu.cpp:1:\n",
            "/usr/local/lib/python3.11/dist-packages/torch/include/ATen/core/TensorBody.h:225:30: note: declared here\n",
            "  225 |   DeprecatedTypeProperties & type() const {\n",
            "      |                              ^~~~\n",
            "In file included from /usr/local/lib/python3.11/dist-packages/torch/include/ATen/BlasBackend.h:3,\n",
            "                 from /usr/local/lib/python3.11/dist-packages/torch/include/ATen/Context.h:3,\n",
            "                 from /usr/local/lib/python3.11/dist-packages/torch/include/ATen/ATen.h:7,\n",
            "                 from /content/ACGPN/Self-Correction-Human-Parsing-for-ACGPN/modules/src/inplace_abn_cpu.cpp:1:\n",
            "/content/ACGPN/Self-Correction-Human-Parsing-for-ACGPN/modules/src/utils/checks.h:11:40: warning: ‘at::DeprecatedTypeProperties& at::Tensor::type() const’ is deprecated: Tensor.type() is deprecated. Instead use Tensor.options(), which in many cases (e.g. in a constructor) is a drop-in replacement. If you were using data from type(), that is now available from Tensor itself, so instead of tensor.type().scalar_type(), use tensor.scalar_type() instead and instead of tensor.type().backend() use tensor.device(). [-Wdeprecated-declarations]\n",
            "   11 | #define CHECK_CPU(x) AT_CHECK(!(x).type().is_cuda(), #x \" must be a CPU tensor\")\n",
            "      |                                ~~~~~~~~^~\n",
            "/content/ACGPN/Self-Correction-Human-Parsing-for-ACGPN/modules/src/utils/checks.h:15:28: note: in expansion of macro ‘CHECK_CPU’\n",
            "   15 | #define CHECK_CPU_INPUT(x) CHECK_CPU(x); CHECK_CONTIGUOUS(x)\n",
            "      |                            ^~~~~~~~~\n",
            "/content/ACGPN/Self-Correction-Human-Parsing-for-ACGPN/modules/src/inplace_abn_cpu.cpp:105:3: note: in expansion of macro ‘CHECK_CPU_INPUT’\n",
            "  105 |   CHECK_CPU_INPUT(dz);\n",
            "      |   ^~~~~~~~~~~~~~~\n",
            "In file included from /usr/local/lib/python3.11/dist-packages/torch/include/ATen/core/ivalue.h:4,\n",
            "                 from /usr/local/lib/python3.11/dist-packages/torch/include/ATen/core/List_inl.h:4,\n",
            "                 from /usr/local/lib/python3.11/dist-packages/torch/include/ATen/core/List.h:491,\n",
            "                 from /usr/local/lib/python3.11/dist-packages/torch/include/ATen/core/IListRef_inl.h:3,\n",
            "                 from /usr/local/lib/python3.11/dist-packages/torch/include/ATen/core/IListRef.h:631,\n",
            "                 from /usr/local/lib/python3.11/dist-packages/torch/include/ATen/DeviceGuard.h:3,\n",
            "                 from /usr/local/lib/python3.11/dist-packages/torch/include/ATen/ATen.h:9,\n",
            "                 from /content/ACGPN/Self-Correction-Human-Parsing-for-ACGPN/modules/src/inplace_abn_cpu.cpp:1:\n",
            "/usr/local/lib/python3.11/dist-packages/torch/include/ATen/core/TensorBody.h:225:30: note: declared here\n",
            "  225 |   DeprecatedTypeProperties & type() const {\n",
            "      |                              ^~~~\n",
            "In file included from /usr/local/lib/python3.11/dist-packages/torch/include/ATen/ATen.h:11,\n",
            "                 from /content/ACGPN/Self-Correction-Human-Parsing-for-ACGPN/modules/src/inplace_abn_cpu.cpp:1:\n",
            "/content/ACGPN/Self-Correction-Human-Parsing-for-ACGPN/modules/src/inplace_abn_cpu.cpp: In lambda function:\n",
            "/content/ACGPN/Self-Correction-Human-Parsing-for-ACGPN/modules/src/inplace_abn_cpu.cpp:107:36: warning: ‘at::DeprecatedTypeProperties& at::Tensor::type() const’ is deprecated: Tensor.type() is deprecated. Instead use Tensor.options(), which in many cases (e.g. in a constructor) is a drop-in replacement. If you were using data from type(), that is now available from Tensor itself, so instead of tensor.type().scalar_type(), use tensor.scalar_type() instead and instead of tensor.type().backend() use tensor.device(). [-Wdeprecated-declarations]\n",
            "  107 |   AT_DISPATCH_FLOATING_TYPES(z.type(), \"elu_backward_cpu\", ([&] {\n",
            "      |                              ~~~~~~^~\n",
            "In file included from /usr/local/lib/python3.11/dist-packages/torch/include/ATen/core/ivalue.h:4,\n",
            "                 from /usr/local/lib/python3.11/dist-packages/torch/include/ATen/core/List_inl.h:4,\n",
            "                 from /usr/local/lib/python3.11/dist-packages/torch/include/ATen/core/List.h:491,\n",
            "                 from /usr/local/lib/python3.11/dist-packages/torch/include/ATen/core/IListRef_inl.h:3,\n",
            "                 from /usr/local/lib/python3.11/dist-packages/torch/include/ATen/core/IListRef.h:631,\n",
            "                 from /usr/local/lib/python3.11/dist-packages/torch/include/ATen/DeviceGuard.h:3,\n",
            "                 from /usr/local/lib/python3.11/dist-packages/torch/include/ATen/ATen.h:9,\n",
            "                 from /content/ACGPN/Self-Correction-Human-Parsing-for-ACGPN/modules/src/inplace_abn_cpu.cpp:1:\n",
            "/usr/local/lib/python3.11/dist-packages/torch/include/ATen/core/TensorBody.h:225:30: note: declared here\n",
            "  225 |   DeprecatedTypeProperties & type() const {\n",
            "      |                              ^~~~\n",
            "In file included from /usr/local/lib/python3.11/dist-packages/torch/include/ATen/ATen.h:11,\n",
            "                 from /content/ACGPN/Self-Correction-Human-Parsing-for-ACGPN/modules/src/inplace_abn_cpu.cpp:1:\n",
            "/content/ACGPN/Self-Correction-Human-Parsing-for-ACGPN/modules/src/inplace_abn_cpu.cpp:107:3: error: cannot convert ‘const at::DeprecatedTypeProperties’ to ‘c10::ScalarType’\n",
            "  107 |   AT_DISPATCH_FLOATING_TYPES(z.type(), \"elu_backward_cpu\", ([&] {\n",
            "      |   ^~~~~~~~~~~~~~~~~~~~~~~~~~\n",
            "      |   |\n",
            "      |   const at::DeprecatedTypeProperties\n",
            "/usr/local/lib/python3.11/dist-packages/torch/include/ATen/Dispatch.h:101:50: note:   initializing argument 1 of ‘c10::ScalarType detail::scalar_type(c10::ScalarType)’\n",
            "  101 | inline at::ScalarType scalar_type(at::ScalarType s) {\n",
            "      |                                   ~~~~~~~~~~~~~~~^\n",
            "/content/ACGPN/Self-Correction-Human-Parsing-for-ACGPN/modules/src/inplace_abn_cpu.cpp: In lambda function:\n",
            "/content/ACGPN/Self-Correction-Human-Parsing-for-ACGPN/modules/src/inplace_abn_cpu.cpp:109:32: warning: ‘T* at::Tensor::data() const [with T = double]’ is deprecated: Tensor.data<T>() is deprecated. Please use Tensor.data_ptr<T>() instead. [-Wdeprecated-declarations]\n",
            "  109 |     auto *_z = z.data<scalar_t>();\n",
            "      |                ~~~~~~~~~~~~~~~~^~\n",
            "In file included from /usr/local/lib/python3.11/dist-packages/torch/include/ATen/core/ivalue.h:4,\n",
            "                 from /usr/local/lib/python3.11/dist-packages/torch/include/ATen/core/List_inl.h:4,\n",
            "                 from /usr/local/lib/python3.11/dist-packages/torch/include/ATen/core/List.h:491,\n",
            "                 from /usr/local/lib/python3.11/dist-packages/torch/include/ATen/core/IListRef_inl.h:3,\n",
            "                 from /usr/local/lib/python3.11/dist-packages/torch/include/ATen/core/IListRef.h:631,\n",
            "                 from /usr/local/lib/python3.11/dist-packages/torch/include/ATen/DeviceGuard.h:3,\n",
            "                 from /usr/local/lib/python3.11/dist-packages/torch/include/ATen/ATen.h:9,\n",
            "                 from /content/ACGPN/Self-Correction-Human-Parsing-for-ACGPN/modules/src/inplace_abn_cpu.cpp:1:\n",
            "/usr/local/lib/python3.11/dist-packages/torch/include/ATen/core/TensorBody.h:247:7: note: declared here\n",
            "  247 |   T * data() const {\n",
            "      |       ^~~~\n",
            "In file included from /usr/local/lib/python3.11/dist-packages/torch/include/ATen/ATen.h:11,\n",
            "                 from /content/ACGPN/Self-Correction-Human-Parsing-for-ACGPN/modules/src/inplace_abn_cpu.cpp:1:\n",
            "/content/ACGPN/Self-Correction-Human-Parsing-for-ACGPN/modules/src/inplace_abn_cpu.cpp:110:34: warning: ‘T* at::Tensor::data() const [with T = double]’ is deprecated: Tensor.data<T>() is deprecated. Please use Tensor.data_ptr<T>() instead. [-Wdeprecated-declarations]\n",
            "  110 |     auto *_dz = dz.data<scalar_t>();\n",
            "      |                 ~~~~~~~~~~~~~~~~~^~\n",
            "In file included from /usr/local/lib/python3.11/dist-packages/torch/include/ATen/core/ivalue.h:4,\n",
            "                 from /usr/local/lib/python3.11/dist-packages/torch/include/ATen/core/List_inl.h:4,\n",
            "                 from /usr/local/lib/python3.11/dist-packages/torch/include/ATen/core/List.h:491,\n",
            "                 from /usr/local/lib/python3.11/dist-packages/torch/include/ATen/core/IListRef_inl.h:3,\n",
            "                 from /usr/local/lib/python3.11/dist-packages/torch/include/ATen/core/IListRef.h:631,\n",
            "                 from /usr/local/lib/python3.11/dist-packages/torch/include/ATen/DeviceGuard.h:3,\n",
            "                 from /usr/local/lib/python3.11/dist-packages/torch/include/ATen/ATen.h:9,\n",
            "                 from /content/ACGPN/Self-Correction-Human-Parsing-for-ACGPN/modules/src/inplace_abn_cpu.cpp:1:\n",
            "/usr/local/lib/python3.11/dist-packages/torch/include/ATen/core/TensorBody.h:247:7: note: declared here\n",
            "  247 |   T * data() const {\n",
            "      |       ^~~~\n",
            "In file included from /usr/local/lib/python3.11/dist-packages/torch/include/ATen/ATen.h:11,\n",
            "                 from /content/ACGPN/Self-Correction-Human-Parsing-for-ACGPN/modules/src/inplace_abn_cpu.cpp:1:\n",
            "/content/ACGPN/Self-Correction-Human-Parsing-for-ACGPN/modules/src/inplace_abn_cpu.cpp: In lambda function:\n",
            "/content/ACGPN/Self-Correction-Human-Parsing-for-ACGPN/modules/src/inplace_abn_cpu.cpp:109:32: warning: ‘T* at::Tensor::data() const [with T = float]’ is deprecated: Tensor.data<T>() is deprecated. Please use Tensor.data_ptr<T>() instead. [-Wdeprecated-declarations]\n",
            "  109 |     auto *_z = z.data<scalar_t>();\n",
            "      |                ~~~~~~~~~~~~~~~~^~\n",
            "In file included from /usr/local/lib/python3.11/dist-packages/torch/include/ATen/core/ivalue.h:4,\n",
            "                 from /usr/local/lib/python3.11/dist-packages/torch/include/ATen/core/List_inl.h:4,\n",
            "                 from /usr/local/lib/python3.11/dist-packages/torch/include/ATen/core/List.h:491,\n",
            "                 from /usr/local/lib/python3.11/dist-packages/torch/include/ATen/core/IListRef_inl.h:3,\n",
            "                 from /usr/local/lib/python3.11/dist-packages/torch/include/ATen/core/IListRef.h:631,\n",
            "                 from /usr/local/lib/python3.11/dist-packages/torch/include/ATen/DeviceGuard.h:3,\n",
            "                 from /usr/local/lib/python3.11/dist-packages/torch/include/ATen/ATen.h:9,\n",
            "                 from /content/ACGPN/Self-Correction-Human-Parsing-for-ACGPN/modules/src/inplace_abn_cpu.cpp:1:\n",
            "/usr/local/lib/python3.11/dist-packages/torch/include/ATen/core/TensorBody.h:247:7: note: declared here\n",
            "  247 |   T * data() const {\n",
            "      |       ^~~~\n",
            "In file included from /usr/local/lib/python3.11/dist-packages/torch/include/ATen/ATen.h:11,\n",
            "                 from /content/ACGPN/Self-Correction-Human-Parsing-for-ACGPN/modules/src/inplace_abn_cpu.cpp:1:\n",
            "/content/ACGPN/Self-Correction-Human-Parsing-for-ACGPN/modules/src/inplace_abn_cpu.cpp:110:34: warning: ‘T* at::Tensor::data() const [with T = float]’ is deprecated: Tensor.data<T>() is deprecated. Please use Tensor.data_ptr<T>() instead. [-Wdeprecated-declarations]\n",
            "  110 |     auto *_dz = dz.data<scalar_t>();\n",
            "      |                 ~~~~~~~~~~~~~~~~~^~\n",
            "In file included from /usr/local/lib/python3.11/dist-packages/torch/include/ATen/core/ivalue.h:4,\n",
            "                 from /usr/local/lib/python3.11/dist-packages/torch/include/ATen/core/List_inl.h:4,\n",
            "                 from /usr/local/lib/python3.11/dist-packages/torch/include/ATen/core/List.h:491,\n",
            "                 from /usr/local/lib/python3.11/dist-packages/torch/include/ATen/core/IListRef_inl.h:3,\n",
            "                 from /usr/local/lib/python3.11/dist-packages/torch/include/ATen/core/IListRef.h:631,\n",
            "                 from /usr/local/lib/python3.11/dist-packages/torch/include/ATen/DeviceGuard.h:3,\n",
            "                 from /usr/local/lib/python3.11/dist-packages/torch/include/ATen/ATen.h:9,\n",
            "                 from /content/ACGPN/Self-Correction-Human-Parsing-for-ACGPN/modules/src/inplace_abn_cpu.cpp:1:\n",
            "/usr/local/lib/python3.11/dist-packages/torch/include/ATen/core/TensorBody.h:247:7: note: declared here\n",
            "  247 |   T * data() const {\n",
            "      |       ^~~~\n",
            "[2/4] /usr/local/cuda/bin/nvcc --generate-dependencies-with-compile --dependency-output inplace_abn_cuda.cuda.o.d -DTORCH_EXTENSION_NAME=inplace_abn -DTORCH_API_INCLUDE_EXTENSION_H -DPYBIND11_COMPILER_TYPE=\\\"_gcc\\\" -DPYBIND11_STDLIB=\\\"_libstdcpp\\\" -DPYBIND11_BUILD_ABI=\\\"_cxxabi1011\\\" -isystem /usr/local/lib/python3.11/dist-packages/torch/include -isystem /usr/local/lib/python3.11/dist-packages/torch/include/torch/csrc/api/include -isystem /usr/local/lib/python3.11/dist-packages/torch/include/TH -isystem /usr/local/lib/python3.11/dist-packages/torch/include/THC -isystem /usr/local/cuda/include -isystem /usr/include/python3.11 -D_GLIBCXX_USE_CXX11_ABI=0 -D__CUDA_NO_HALF_OPERATORS__ -D__CUDA_NO_HALF_CONVERSIONS__ -D__CUDA_NO_BFLOAT16_CONVERSIONS__ -D__CUDA_NO_HALF2_OPERATORS__ --expt-relaxed-constexpr -gencode=arch=compute_75,code=compute_75 -gencode=arch=compute_75,code=sm_75 --compiler-options '-fPIC' --expt-extended-lambda -std=c++17 -c /content/ACGPN/Self-Correction-Human-Parsing-for-ACGPN/modules/src/inplace_abn_cuda.cu -o inplace_abn_cuda.cuda.o \n",
            "FAILED: inplace_abn_cuda.cuda.o \n",
            "/usr/local/cuda/bin/nvcc --generate-dependencies-with-compile --dependency-output inplace_abn_cuda.cuda.o.d -DTORCH_EXTENSION_NAME=inplace_abn -DTORCH_API_INCLUDE_EXTENSION_H -DPYBIND11_COMPILER_TYPE=\\\"_gcc\\\" -DPYBIND11_STDLIB=\\\"_libstdcpp\\\" -DPYBIND11_BUILD_ABI=\\\"_cxxabi1011\\\" -isystem /usr/local/lib/python3.11/dist-packages/torch/include -isystem /usr/local/lib/python3.11/dist-packages/torch/include/torch/csrc/api/include -isystem /usr/local/lib/python3.11/dist-packages/torch/include/TH -isystem /usr/local/lib/python3.11/dist-packages/torch/include/THC -isystem /usr/local/cuda/include -isystem /usr/include/python3.11 -D_GLIBCXX_USE_CXX11_ABI=0 -D__CUDA_NO_HALF_OPERATORS__ -D__CUDA_NO_HALF_CONVERSIONS__ -D__CUDA_NO_BFLOAT16_CONVERSIONS__ -D__CUDA_NO_HALF2_OPERATORS__ --expt-relaxed-constexpr -gencode=arch=compute_75,code=compute_75 -gencode=arch=compute_75,code=sm_75 --compiler-options '-fPIC' --expt-extended-lambda -std=c++17 -c /content/ACGPN/Self-Correction-Human-Parsing-for-ACGPN/modules/src/inplace_abn_cuda.cu -o inplace_abn_cuda.cuda.o \n",
            "/content/ACGPN/Self-Correction-Human-Parsing-for-ACGPN/modules/src/inplace_abn_cuda.cu(92): error: no suitable conversion function from \"const at::DeprecatedTypeProperties\" to \"c10::ScalarType\" exists\n",
            "   ; at::ScalarType _st = ::detail::scalar_type(the_type); ; switch (_st) { case at::ScalarType::Double: { do { if constexpr (!at::should_include_kernel_dtype( at_dispatch_name, at::ScalarType::Double)) { if (!(false)) { ::c10::detail::torchCheckFail( __func__, \"/content/ACGPN/Self-Correction-Human-Parsing-for-ACGPN/modules/src/inplace_abn_cuda.cu\", static_cast<uint32_t>(92), (::c10::detail::torchCheckMsgImpl( \"Expected \" \"false\" \" to be true, but got false.  \" \"(Could this error message be improved?  If so, \" \"please report an enhancement request to PyTorch.)\", \"dtype '\", toString(at::ScalarType::Double), \"' not selected for kernel tag \", at_dispatch_name))); }; } } while (0); using scalar_t [[maybe_unused]] = c10::impl::ScalarTypeToCPPTypeT<at::ScalarType::Double>; return \n",
            "                                                ^\n",
            "\n",
            "/content/ACGPN/Self-Correction-Human-Parsing-for-ACGPN/modules/src/inplace_abn_cuda.cu(145): error: no suitable conversion function from \"const at::DeprecatedTypeProperties\" to \"c10::ScalarType\" exists\n",
            "   ; at::ScalarType _st = ::detail::scalar_type(the_type); ; switch (_st) { case at::ScalarType::Double: { do { if constexpr (!at::should_include_kernel_dtype( at_dispatch_name, at::ScalarType::Double)) { if (!(false)) { ::c10::detail::torchCheckFail( __func__, \"/content/ACGPN/Self-Correction-Human-Parsing-for-ACGPN/modules/src/inplace_abn_cuda.cu\", static_cast<uint32_t>(145), (::c10::detail::torchCheckMsgImpl( \"Expected \" \"false\" \" to be true, but got false.  \" \"(Could this error message be improved?  If so, \" \"please report an enhancement request to PyTorch.)\", \"dtype '\", toString(at::ScalarType::Double), \"' not selected for kernel tag \", at_dispatch_name))); }; } } while (0); using scalar_t [[maybe_unused]] = c10::impl::ScalarTypeToCPPTypeT<at::ScalarType::Double>; return \n",
            "                                                ^\n",
            "\n",
            "/content/ACGPN/Self-Correction-Human-Parsing-for-ACGPN/modules/src/inplace_abn_cuda.cu(197): error: no suitable conversion function from \"const at::DeprecatedTypeProperties\" to \"c10::ScalarType\" exists\n",
            "   ; at::ScalarType _st = ::detail::scalar_type(the_type); ; switch (_st) { case at::ScalarType::Double: { do { if constexpr (!at::should_include_kernel_dtype( at_dispatch_name, at::ScalarType::Double)) { if (!(false)) { ::c10::detail::torchCheckFail( __func__, \"/content/ACGPN/Self-Correction-Human-Parsing-for-ACGPN/modules/src/inplace_abn_cuda.cu\", static_cast<uint32_t>(197), (::c10::detail::torchCheckMsgImpl( \"Expected \" \"false\" \" to be true, but got false.  \" \"(Could this error message be improved?  If so, \" \"please report an enhancement request to PyTorch.)\", \"dtype '\", toString(at::ScalarType::Double), \"' not selected for kernel tag \", at_dispatch_name))); }; } } while (0); using scalar_t [[maybe_unused]] = c10::impl::ScalarTypeToCPPTypeT<at::ScalarType::Double>; return \n",
            "                                                ^\n",
            "\n",
            "/content/ACGPN/Self-Correction-Human-Parsing-for-ACGPN/modules/src/inplace_abn_cuda.cu(259): error: no suitable conversion function from \"const at::DeprecatedTypeProperties\" to \"c10::ScalarType\" exists\n",
            "   ; at::ScalarType _st = ::detail::scalar_type(the_type); ; switch (_st) { case at::ScalarType::Double: { do { if constexpr (!at::should_include_kernel_dtype( at_dispatch_name, at::ScalarType::Double)) { if (!(false)) { ::c10::detail::torchCheckFail( __func__, \"/content/ACGPN/Self-Correction-Human-Parsing-for-ACGPN/modules/src/inplace_abn_cuda.cu\", static_cast<uint32_t>(259), (::c10::detail::torchCheckMsgImpl( \"Expected \" \"false\" \" to be true, but got false.  \" \"(Could this error message be improved?  If so, \" \"please report an enhancement request to PyTorch.)\", \"dtype '\", toString(at::ScalarType::Double), \"' not selected for kernel tag \", at_dispatch_name))); }; } } while (0); using scalar_t [[maybe_unused]] = c10::impl::ScalarTypeToCPPTypeT<at::ScalarType::Double>; return \n",
            "                                                ^\n",
            "\n",
            "/content/ACGPN/Self-Correction-Human-Parsing-for-ACGPN/modules/src/inplace_abn_cuda.cu(302): error: no suitable conversion function from \"const at::DeprecatedTypeProperties\" to \"c10::ScalarType\" exists\n",
            "   ; at::ScalarType _st = ::detail::scalar_type(the_type); ; switch (_st) { case at::ScalarType::Double: { do { if constexpr (!at::should_include_kernel_dtype( at_dispatch_name, at::ScalarType::Double)) { if (!(false)) { ::c10::detail::torchCheckFail( __func__, \"/content/ACGPN/Self-Correction-Human-Parsing-for-ACGPN/modules/src/inplace_abn_cuda.cu\", static_cast<uint32_t>(302), (::c10::detail::torchCheckMsgImpl( \"Expected \" \"false\" \" to be true, but got false.  \" \"(Could this error message be improved?  If so, \" \"please report an enhancement request to PyTorch.)\", \"dtype '\", toString(at::ScalarType::Double), \"' not selected for kernel tag \", at_dispatch_name))); }; } } while (0); using scalar_t [[maybe_unused]] = c10::impl::ScalarTypeToCPPTypeT<at::ScalarType::Double>; return \n",
            "                                                ^\n",
            "\n",
            "/content/ACGPN/Self-Correction-Human-Parsing-for-ACGPN/modules/src/inplace_abn_cuda.cu(330): error: no suitable conversion function from \"const at::DeprecatedTypeProperties\" to \"c10::ScalarType\" exists\n",
            "   ; at::ScalarType _st = ::detail::scalar_type(the_type); ; switch (_st) { case at::ScalarType::Double: { do { if constexpr (!at::should_include_kernel_dtype( at_dispatch_name, at::ScalarType::Double)) { if (!(false)) { ::c10::detail::torchCheckFail( __func__, \"/content/ACGPN/Self-Correction-Human-Parsing-for-ACGPN/modules/src/inplace_abn_cuda.cu\", static_cast<uint32_t>(330), (::c10::detail::torchCheckMsgImpl( \"Expected \" \"false\" \" to be true, but got false.  \" \"(Could this error message be improved?  If so, \" \"please report an enhancement request to PyTorch.)\", \"dtype '\", toString(at::ScalarType::Double), \"' not selected for kernel tag \", at_dispatch_name))); }; } } while (0); using scalar_t [[maybe_unused]] = c10::impl::ScalarTypeToCPPTypeT<at::ScalarType::Double>; return \n",
            "                                                ^\n",
            "\n",
            "6 errors detected in the compilation of \"/content/ACGPN/Self-Correction-Human-Parsing-for-ACGPN/modules/src/inplace_abn_cuda.cu\".\n",
            "[3/4] /usr/local/cuda/bin/nvcc --generate-dependencies-with-compile --dependency-output inplace_abn_cuda_half.cuda.o.d -DTORCH_EXTENSION_NAME=inplace_abn -DTORCH_API_INCLUDE_EXTENSION_H -DPYBIND11_COMPILER_TYPE=\\\"_gcc\\\" -DPYBIND11_STDLIB=\\\"_libstdcpp\\\" -DPYBIND11_BUILD_ABI=\\\"_cxxabi1011\\\" -isystem /usr/local/lib/python3.11/dist-packages/torch/include -isystem /usr/local/lib/python3.11/dist-packages/torch/include/torch/csrc/api/include -isystem /usr/local/lib/python3.11/dist-packages/torch/include/TH -isystem /usr/local/lib/python3.11/dist-packages/torch/include/THC -isystem /usr/local/cuda/include -isystem /usr/include/python3.11 -D_GLIBCXX_USE_CXX11_ABI=0 -D__CUDA_NO_HALF_OPERATORS__ -D__CUDA_NO_HALF_CONVERSIONS__ -D__CUDA_NO_BFLOAT16_CONVERSIONS__ -D__CUDA_NO_HALF2_OPERATORS__ --expt-relaxed-constexpr -gencode=arch=compute_75,code=compute_75 -gencode=arch=compute_75,code=sm_75 --compiler-options '-fPIC' --expt-extended-lambda -std=c++17 -c /content/ACGPN/Self-Correction-Human-Parsing-for-ACGPN/modules/src/inplace_abn_cuda_half.cu -o inplace_abn_cuda_half.cuda.o \n",
            "/content/ACGPN/Self-Correction-Human-Parsing-for-ACGPN/modules/src/inplace_abn_cuda_half.cu: In function ‘std::vector<at::Tensor> mean_var_cuda_h(at::Tensor)’:\n",
            "/content/ACGPN/Self-Correction-Human-Parsing-for-ACGPN/modules/src/inplace_abn_cuda_half.cu:87:134: warning: ‘T* at::Tensor::data() const [with T = c10::Half]’ is deprecated: Tensor.data<T>() is deprecated. Please use Tensor.data_ptr<T>() instead. [-Wdeprecated-declarations]\n",
            "   87 |   mean_var_kernel_h<<<blocks, threads, 0, stream>>>(\n",
            "      |                                                                                                                                      ^ \n",
            "/usr/local/lib/python3.11/dist-packages/torch/include/ATen/core/TensorBody.h:247:1: note: declared here\n",
            "  247 |   T * data() const {\n",
            "      | ^ ~~\n",
            "/content/ACGPN/Self-Correction-Human-Parsing-for-ACGPN/modules/src/inplace_abn_cuda_half.cu:87:157: warning: ‘T* at::Tensor::data() const [with T = float]’ is deprecated: Tensor.data<T>() is deprecated. Please use Tensor.data_ptr<T>() instead. [-Wdeprecated-declarations]\n",
            "   87 |   mean_var_kernel_h<<<blocks, threads, 0, stream>>>(\n",
            "      |                                                                                                                                                             ^ \n",
            "/usr/local/lib/python3.11/dist-packages/torch/include/ATen/core/TensorBody.h:247:1: note: declared here\n",
            "  247 |   T * data() const {\n",
            "      | ^ ~~\n",
            "/content/ACGPN/Self-Correction-Human-Parsing-for-ACGPN/modules/src/inplace_abn_cuda_half.cu:87:178: warning: ‘T* at::Tensor::data() const [with T = float]’ is deprecated: Tensor.data<T>() is deprecated. Please use Tensor.data_ptr<T>() instead. [-Wdeprecated-declarations]\n",
            "   87 |   mean_var_kernel_h<<<blocks, threads, 0, stream>>>(\n",
            "      |                                                                                                                                                                                  ^ \n",
            "/usr/local/lib/python3.11/dist-packages/torch/include/ATen/core/TensorBody.h:247:1: note: declared here\n",
            "  247 |   T * data() const {\n",
            "      | ^ ~~\n",
            "/content/ACGPN/Self-Correction-Human-Parsing-for-ACGPN/modules/src/inplace_abn_cuda_half.cu: In function ‘at::Tensor forward_cuda_h(at::Tensor, at::Tensor, at::Tensor, at::Tensor, at::Tensor, bool, float)’:\n",
            "/content/ACGPN/Self-Correction-Human-Parsing-for-ACGPN/modules/src/inplace_abn_cuda_half.cu:138:133: warning: ‘T* at::Tensor::data() const [with T = c10::Half]’ is deprecated: Tensor.data<T>() is deprecated. Please use Tensor.data_ptr<T>() instead. [-Wdeprecated-declarations]\n",
            "  138 |   forward_kernel_h<<<blocks, threads, 0, stream>>>(\n",
            "      |                                                                                                                                     ^ \n",
            "/usr/local/lib/python3.11/dist-packages/torch/include/ATen/core/TensorBody.h:247:1: note: declared here\n",
            "  247 |   T * data() const {\n",
            "      | ^ ~~\n",
            "/content/ACGPN/Self-Correction-Human-Parsing-for-ACGPN/modules/src/inplace_abn_cuda_half.cu:138:156: warning: ‘T* at::Tensor::data() const [with T = float]’ is deprecated: Tensor.data<T>() is deprecated. Please use Tensor.data_ptr<T>() instead. [-Wdeprecated-declarations]\n",
            "  138 |   forward_kernel_h<<<blocks, threads, 0, stream>>>(\n",
            "      |                                                                                                                                                            ^ \n",
            "/usr/local/lib/python3.11/dist-packages/torch/include/ATen/core/TensorBody.h:247:1: note: declared here\n",
            "  247 |   T * data() const {\n",
            "      | ^ ~~\n",
            "/content/ACGPN/Self-Correction-Human-Parsing-for-ACGPN/modules/src/inplace_abn_cuda_half.cu:138:177: warning: ‘T* at::Tensor::data() const [with T = float]’ is deprecated: Tensor.data<T>() is deprecated. Please use Tensor.data_ptr<T>() instead. [-Wdeprecated-declarations]\n",
            "  138 |   forward_kernel_h<<<blocks, threads, 0, stream>>>(\n",
            "      |                                                                                                                                                                                 ^ \n",
            "/usr/local/lib/python3.11/dist-packages/torch/include/ATen/core/TensorBody.h:247:1: note: declared here\n",
            "  247 |   T * data() const {\n",
            "      | ^ ~~\n",
            "/content/ACGPN/Self-Correction-Human-Parsing-for-ACGPN/modules/src/inplace_abn_cuda_half.cu:138:201: warning: ‘T* at::Tensor::data() const [with T = float]’ is deprecated: Tensor.data<T>() is deprecated. Please use Tensor.data_ptr<T>() instead. [-Wdeprecated-declarations]\n",
            "  138 |   forward_kernel_h<<<blocks, threads, 0, stream>>>(\n",
            "      |                                                                                                                                                                                                         ^ \n",
            "/usr/local/lib/python3.11/dist-packages/torch/include/ATen/core/TensorBody.h:247:1: note: declared here\n",
            "  247 |   T * data() const {\n",
            "      | ^ ~~\n",
            "/content/ACGPN/Self-Correction-Human-Parsing-for-ACGPN/modules/src/inplace_abn_cuda_half.cu:138:223: warning: ‘T* at::Tensor::data() const [with T = float]’ is deprecated: Tensor.data<T>() is deprecated. Please use Tensor.data_ptr<T>() instead. [-Wdeprecated-declarations]\n",
            "  138 |   forward_kernel_h<<<blocks, threads, 0, stream>>>(\n",
            "      |                                                                                                                                                                                                                               ^ \n",
            "/usr/local/lib/python3.11/dist-packages/torch/include/ATen/core/TensorBody.h:247:1: note: declared here\n",
            "  247 |   T * data() const {\n",
            "      | ^ ~~\n",
            "/content/ACGPN/Self-Correction-Human-Parsing-for-ACGPN/modules/src/inplace_abn_cuda_half.cu: In function ‘std::vector<at::Tensor> edz_eydz_cuda_h(at::Tensor, at::Tensor, at::Tensor, at::Tensor, bool, float)’:\n",
            "/content/ACGPN/Self-Correction-Human-Parsing-for-ACGPN/modules/src/inplace_abn_cuda_half.cu:183:134: warning: ‘T* at::Tensor::data() const [with T = c10::Half]’ is deprecated: Tensor.data<T>() is deprecated. Please use Tensor.data_ptr<T>() instead. [-Wdeprecated-declarations]\n",
            "  183 |   edz_eydz_kernel_h<<<blocks, threads, 0, stream>>>(\n",
            "      |                                                                                                                                      ^ \n",
            "/usr/local/lib/python3.11/dist-packages/torch/include/ATen/core/TensorBody.h:247:1: note: declared here\n",
            "  247 |   T * data() const {\n",
            "      | ^ ~~\n",
            "/content/ACGPN/Self-Correction-Human-Parsing-for-ACGPN/modules/src/inplace_abn_cuda_half.cu:183:185: warning: ‘T* at::Tensor::data() const [with T = c10::Half]’ is deprecated: Tensor.data<T>() is deprecated. Please use Tensor.data_ptr<T>() instead. [-Wdeprecated-declarations]\n",
            "  183 |   edz_eydz_kernel_h<<<blocks, threads, 0, stream>>>(\n",
            "      |                                                                                                                                                                                         ^ \n",
            "/usr/local/lib/python3.11/dist-packages/torch/include/ATen/core/TensorBody.h:247:1: note: declared here\n",
            "  247 |   T * data() const {\n",
            "      | ^ ~~\n",
            "/content/ACGPN/Self-Correction-Human-Parsing-for-ACGPN/modules/src/inplace_abn_cuda_half.cu:183:210: warning: ‘T* at::Tensor::data() const [with T = float]’ is deprecated: Tensor.data<T>() is deprecated. Please use Tensor.data_ptr<T>() instead. [-Wdeprecated-declarations]\n",
            "  183 |   edz_eydz_kernel_h<<<blocks, threads, 0, stream>>>(\n",
            "      |                                                                                                                                                                                                                  ^ \n",
            "/usr/local/lib/python3.11/dist-packages/torch/include/ATen/core/TensorBody.h:247:1: note: declared here\n",
            "  247 |   T * data() const {\n",
            "      | ^ ~~\n",
            "/content/ACGPN/Self-Correction-Human-Parsing-for-ACGPN/modules/src/inplace_abn_cuda_half.cu:183:232: warning: ‘T* at::Tensor::data() const [with T = float]’ is deprecated: Tensor.data<T>() is deprecated. Please use Tensor.data_ptr<T>() instead. [-Wdeprecated-declarations]\n",
            "  183 |   edz_eydz_kernel_h<<<blocks, threads, 0, stream>>>(\n",
            "      |                                                                                                                                                                                                                                        ^ \n",
            "/usr/local/lib/python3.11/dist-packages/torch/include/ATen/core/TensorBody.h:247:1: note: declared here\n",
            "  247 |   T * data() const {\n",
            "      | ^ ~~\n",
            "/content/ACGPN/Self-Correction-Human-Parsing-for-ACGPN/modules/src/inplace_abn_cuda_half.cu:183:253: warning: ‘T* at::Tensor::data() const [with T = float]’ is deprecated: Tensor.data<T>() is deprecated. Please use Tensor.data_ptr<T>() instead. [-Wdeprecated-declarations]\n",
            "  183 |   edz_eydz_kernel_h<<<blocks, threads, 0, stream>>>(\n",
            "      |                                                                                                                                                                                                                                                             ^ \n",
            "/usr/local/lib/python3.11/dist-packages/torch/include/ATen/core/TensorBody.h:247:1: note: declared here\n",
            "  247 |   T * data() const {\n",
            "      | ^ ~~\n",
            "/content/ACGPN/Self-Correction-Human-Parsing-for-ACGPN/modules/src/inplace_abn_cuda_half.cu:183:275: warning: ‘T* at::Tensor::data() const [with T = float]’ is deprecated: Tensor.data<T>() is deprecated. Please use Tensor.data_ptr<T>() instead. [-Wdeprecated-declarations]\n",
            "  183 |   edz_eydz_kernel_h<<<blocks, threads, 0, stream>>>(\n",
            "      |                                                                                                                                                                                                                                                                                   ^ \n",
            "/usr/local/lib/python3.11/dist-packages/torch/include/ATen/core/TensorBody.h:247:1: note: declared here\n",
            "  247 |   T * data() const {\n",
            "      | ^ ~~\n",
            "/content/ACGPN/Self-Correction-Human-Parsing-for-ACGPN/modules/src/inplace_abn_cuda_half.cu: In function ‘at::Tensor backward_cuda_h(at::Tensor, at::Tensor, at::Tensor, at::Tensor, at::Tensor, at::Tensor, at::Tensor, bool, float)’:\n",
            "/content/ACGPN/Self-Correction-Human-Parsing-for-ACGPN/modules/src/inplace_abn_cuda_half.cu:238:134: warning: ‘T* at::Tensor::data() const [with T = c10::Half]’ is deprecated: Tensor.data<T>() is deprecated. Please use Tensor.data_ptr<T>() instead. [-Wdeprecated-declarations]\n",
            "  238 |   backward_kernel_h<<<blocks, threads, 0, stream>>>(\n",
            "      |                                                                                                                                      ^ \n",
            "/usr/local/lib/python3.11/dist-packages/torch/include/ATen/core/TensorBody.h:247:1: note: declared here\n",
            "  247 |   T * data() const {\n",
            "      | ^ ~~\n",
            "/content/ACGPN/Self-Correction-Human-Parsing-for-ACGPN/modules/src/inplace_abn_cuda_half.cu:238:185: warning: ‘T* at::Tensor::data() const [with T = c10::Half]’ is deprecated: Tensor.data<T>() is deprecated. Please use Tensor.data_ptr<T>() instead. [-Wdeprecated-declarations]\n",
            "  238 |   backward_kernel_h<<<blocks, threads, 0, stream>>>(\n",
            "      |                                                                                                                                                                                         ^ \n",
            "/usr/local/lib/python3.11/dist-packages/torch/include/ATen/core/TensorBody.h:247:1: note: declared here\n",
            "  247 |   T * data() const {\n",
            "      | ^ ~~\n",
            "/content/ACGPN/Self-Correction-Human-Parsing-for-ACGPN/modules/src/inplace_abn_cuda_half.cu:238:207: warning: ‘T* at::Tensor::data() const [with T = float]’ is deprecated: Tensor.data<T>() is deprecated. Please use Tensor.data_ptr<T>() instead. [-Wdeprecated-declarations]\n",
            "  238 |   backward_kernel_h<<<blocks, threads, 0, stream>>>(\n",
            "      |                                                                                                                                                                                                               ^ \n",
            "/usr/local/lib/python3.11/dist-packages/torch/include/ATen/core/TensorBody.h:247:1: note: declared here\n",
            "  247 |   T * data() const {\n",
            "      | ^ ~~\n",
            "/content/ACGPN/Self-Correction-Human-Parsing-for-ACGPN/modules/src/inplace_abn_cuda_half.cu:238:231: warning: ‘T* at::Tensor::data() const [with T = float]’ is deprecated: Tensor.data<T>() is deprecated. Please use Tensor.data_ptr<T>() instead. [-Wdeprecated-declarations]\n",
            "  238 |   backward_kernel_h<<<blocks, threads, 0, stream>>>(\n",
            "      |                                                                                                                                                                                                                                       ^ \n",
            "/usr/local/lib/python3.11/dist-packages/torch/include/ATen/core/TensorBody.h:247:1: note: declared here\n",
            "  247 |   T * data() const {\n",
            "      | ^ ~~\n",
            "/content/ACGPN/Self-Correction-Human-Parsing-for-ACGPN/modules/src/inplace_abn_cuda_half.cu:238:253: warning: ‘T* at::Tensor::data() const [with T = float]’ is deprecated: Tensor.data<T>() is deprecated. Please use Tensor.data_ptr<T>() instead. [-Wdeprecated-declarations]\n",
            "  238 |   backward_kernel_h<<<blocks, threads, 0, stream>>>(\n",
            "      |                                                                                                                                                                                                                                                             ^ \n",
            "/usr/local/lib/python3.11/dist-packages/torch/include/ATen/core/TensorBody.h:247:1: note: declared here\n",
            "  247 |   T * data() const {\n",
            "      | ^ ~~\n",
            "/content/ACGPN/Self-Correction-Human-Parsing-for-ACGPN/modules/src/inplace_abn_cuda_half.cu:238:274: warning: ‘T* at::Tensor::data() const [with T = float]’ is deprecated: Tensor.data<T>() is deprecated. Please use Tensor.data_ptr<T>() instead. [-Wdeprecated-declarations]\n",
            "  238 |   backward_kernel_h<<<blocks, threads, 0, stream>>>(\n",
            "      |                                                                                                                                                                                                                                                                                  ^ \n",
            "/usr/local/lib/python3.11/dist-packages/torch/include/ATen/core/TensorBody.h:247:1: note: declared here\n",
            "  247 |   T * data() const {\n",
            "      | ^ ~~\n",
            "/content/ACGPN/Self-Correction-Human-Parsing-for-ACGPN/modules/src/inplace_abn_cuda_half.cu:238:296: warning: ‘T* at::Tensor::data() const [with T = float]’ is deprecated: Tensor.data<T>() is deprecated. Please use Tensor.data_ptr<T>() instead. [-Wdeprecated-declarations]\n",
            "  238 |   backward_kernel_h<<<blocks, threads, 0, stream>>>(\n",
            "      |                                                                                                                                                                                                                                                                                                        ^ \n",
            "/usr/local/lib/python3.11/dist-packages/torch/include/ATen/core/TensorBody.h:247:1: note: declared here\n",
            "  247 |   T * data() const {\n",
            "      | ^ ~~\n",
            "/content/ACGPN/Self-Correction-Human-Parsing-for-ACGPN/modules/src/inplace_abn_cuda_half.cu:238:346: warning: ‘T* at::Tensor::data() const [with T = c10::Half]’ is deprecated: Tensor.data<T>() is deprecated. Please use Tensor.data_ptr<T>() instead. [-Wdeprecated-declarations]\n",
            "  238 |   backward_kernel_h<<<blocks, threads, 0, stream>>>(\n",
            "      |                                                                                                                                                                                                                                                                                                                                                          ^ \n",
            "/usr/local/lib/python3.11/dist-packages/torch/include/ATen/core/TensorBody.h:247:1: note: declared here\n",
            "  247 |   T * data() const {\n",
            "      | ^ ~~\n",
            "/content/ACGPN/Self-Correction-Human-Parsing-for-ACGPN/modules/src/inplace_abn_cuda_half.cu: In function ‘void leaky_relu_backward_cuda_h(at::Tensor, at::Tensor, float)’:\n",
            "/content/ACGPN/Self-Correction-Human-Parsing-for-ACGPN/modules/src/inplace_abn_cuda_half.cu:270:143: warning: ‘T* at::Tensor::data() const [with T = c10::Half]’ is deprecated: Tensor.data<T>() is deprecated. Please use Tensor.data_ptr<T>() instead. [-Wdeprecated-declarations]\n",
            "  270 |   leaky_relu_backward_impl_h<<<blocks, threads, 0, stream>>>(\n",
            "      |                                                                                                                                               ^ \n",
            "/usr/local/lib/python3.11/dist-packages/torch/include/ATen/core/TensorBody.h:247:1: note: declared here\n",
            "  247 |   T * data() const {\n",
            "      | ^ ~~\n",
            "/content/ACGPN/Self-Correction-Human-Parsing-for-ACGPN/modules/src/inplace_abn_cuda_half.cu:270:194: warning: ‘T* at::Tensor::data() const [with T = c10::Half]’ is deprecated: Tensor.data<T>() is deprecated. Please use Tensor.data_ptr<T>() instead. [-Wdeprecated-declarations]\n",
            "  270 |   leaky_relu_backward_impl_h<<<blocks, threads, 0, stream>>>(\n",
            "      |                                                                                                                                                                                                  ^ \n",
            "/usr/local/lib/python3.11/dist-packages/torch/include/ATen/core/TensorBody.h:247:1: note: declared here\n",
            "  247 |   T * data() const {\n",
            "      | ^ ~~\n",
            "ninja: build stopped: subcommand failed.\n",
            "\n",
            "Parsing generated in 44.89607071876526s\n",
            "File saved at Data_preprocessing/test_pose/000001_0_keypoints.json\n",
            "Pose map generated in 4.441505193710327s\n"
          ]
        }
      ]
    },
    {
      "cell_type": "code",
      "metadata": {
        "id": "EgMi912KAUNs"
      },
      "source": [
        "!rm -rf Data_preprocessing/test_pairs.txt\n",
        "with open('Data_preprocessing/test_pairs.txt','w') as f:\n",
        "    f.write('000001_0.png 000001_1.png')"
      ],
      "execution_count": 19,
      "outputs": []
    },
    {
      "cell_type": "code",
      "metadata": {
        "id": "EIcoP4ll14Ia",
        "colab": {
          "base_uri": "https://localhost:8080/"
        },
        "outputId": "e2be7253-0de3-4abb-e359-5e6d0433cb2e"
      },
      "source": [
        "!python test.py"
      ],
      "execution_count": 21,
      "outputs": [
        {
          "output_type": "stream",
          "name": "stdout",
          "text": [
            "?\n",
            "------------ Options -------------\n",
            "aspect_ratio: 1.0\n",
            "batchSize: 1\n",
            "checkpoints_dir: ./checkpoints\n",
            "cluster_path: features_clustered_010.npy\n",
            "continue_train: False\n",
            "data_type: 32\n",
            "datapairs: test_pairs.txt\n",
            "dataroot: Data_preprocessing/\n",
            "display_winsize: 512\n",
            "engine: None\n",
            "export_onnx: None\n",
            "fineSize: 512\n",
            "gpu_ids: [0]\n",
            "how_many: 1000\n",
            "input_nc: 3\n",
            "isTrain: False\n",
            "label_nc: 20\n",
            "loadSize: 512\n",
            "max_dataset_size: inf\n",
            "model: pix2pixHD\n",
            "nThreads: 1\n",
            "n_blocks_global: 4\n",
            "n_blocks_local: 3\n",
            "n_downsample_global: 4\n",
            "n_local_enhancers: 1\n",
            "name: label2city\n",
            "netG: global\n",
            "ngf: 64\n",
            "niter_fix_global: 0\n",
            "no_flip: False\n",
            "norm: instance\n",
            "ntest: inf\n",
            "onnx: None\n",
            "output_nc: 3\n",
            "phase: test\n",
            "resize_or_crop: scale_width\n",
            "results_dir: ./results/\n",
            "serial_batches: True\n",
            "tf_log: False\n",
            "use_dropout: False\n",
            "use_encoded_image: False\n",
            "verbose: False\n",
            "which_epoch: latest\n",
            "-------------- End ----------------\n",
            "CustomDatasetDataLoader\n",
            "dataset [AlignedDataset] was created\n",
            "Data_preprocessing/test_label label\n",
            "Data_preprocessing/test_img img\n",
            "Data_preprocessing/test_edge edge\n",
            "Data_preprocessing/test_edge edge\n",
            "Data_preprocessing/test_mask mask\n",
            "Data_preprocessing/test_mask mask\n",
            "Data_preprocessing/test_colormask colormask\n",
            "Data_preprocessing/test_colormask colormask\n",
            "Data_preprocessing/test_color color\n",
            "Data_preprocessing/test_color color\n",
            "# Inference images = 0\n",
            "latest_net_U.pth\n",
            "latest_net_G1.pth\n",
            "latest_net_G2.pth\n",
            "latest_net_G.pth\n"
          ]
        }
      ]
    },
    {
      "cell_type": "code",
      "metadata": {
        "id": "f5FWfCeyJ8VL",
        "colab": {
          "base_uri": "https://localhost:8080/",
          "height": 401
        },
        "outputId": "64f3f55a-6148-4562-974b-7b20326e5661"
      },
      "source": [
        "output_grid = np.concatenate([np.array(Image.open('Data_preprocessing/test_img/000001_0.png')),\n",
        "                np.array(Image.open('Data_preprocessing/test_color/000001_1.png')),\n",
        "                np.array(Image.open('results/test/try-on/000001_0.png'))], axis=1)\n",
        "image_grid = Image.fromarray(output_grid)\n",
        "image_grid"
      ],
      "execution_count": 22,
      "outputs": [
        {
          "output_type": "error",
          "ename": "FileNotFoundError",
          "evalue": "[Errno 2] No such file or directory: 'results/test/try-on/000001_0.png'",
          "traceback": [
            "\u001b[0;31m---------------------------------------------------------------------------\u001b[0m",
            "\u001b[0;31mFileNotFoundError\u001b[0m                         Traceback (most recent call last)",
            "\u001b[0;32m<ipython-input-22-4176e100d9e5>\u001b[0m in \u001b[0;36m<cell line: 0>\u001b[0;34m()\u001b[0m\n\u001b[1;32m      1\u001b[0m output_grid = np.concatenate([np.array(Image.open('Data_preprocessing/test_img/000001_0.png')),\n\u001b[1;32m      2\u001b[0m                 \u001b[0mnp\u001b[0m\u001b[0;34m.\u001b[0m\u001b[0marray\u001b[0m\u001b[0;34m(\u001b[0m\u001b[0mImage\u001b[0m\u001b[0;34m.\u001b[0m\u001b[0mopen\u001b[0m\u001b[0;34m(\u001b[0m\u001b[0;34m'Data_preprocessing/test_color/000001_1.png'\u001b[0m\u001b[0;34m)\u001b[0m\u001b[0;34m)\u001b[0m\u001b[0;34m,\u001b[0m\u001b[0;34m\u001b[0m\u001b[0;34m\u001b[0m\u001b[0m\n\u001b[0;32m----> 3\u001b[0;31m                 np.array(Image.open('results/test/try-on/000001_0.png'))], axis=1)\n\u001b[0m\u001b[1;32m      4\u001b[0m \u001b[0mimage_grid\u001b[0m \u001b[0;34m=\u001b[0m \u001b[0mImage\u001b[0m\u001b[0;34m.\u001b[0m\u001b[0mfromarray\u001b[0m\u001b[0;34m(\u001b[0m\u001b[0moutput_grid\u001b[0m\u001b[0;34m)\u001b[0m\u001b[0;34m\u001b[0m\u001b[0;34m\u001b[0m\u001b[0m\n\u001b[1;32m      5\u001b[0m \u001b[0mimage_grid\u001b[0m\u001b[0;34m\u001b[0m\u001b[0;34m\u001b[0m\u001b[0m\n",
            "\u001b[0;32m/usr/local/lib/python3.11/dist-packages/PIL/Image.py\u001b[0m in \u001b[0;36mopen\u001b[0;34m(fp, mode, formats)\u001b[0m\n\u001b[1;32m   3463\u001b[0m \u001b[0;34m\u001b[0m\u001b[0m\n\u001b[1;32m   3464\u001b[0m     \u001b[0;32mif\u001b[0m \u001b[0mfilename\u001b[0m\u001b[0;34m:\u001b[0m\u001b[0;34m\u001b[0m\u001b[0;34m\u001b[0m\u001b[0m\n\u001b[0;32m-> 3465\u001b[0;31m         \u001b[0mfp\u001b[0m \u001b[0;34m=\u001b[0m \u001b[0mbuiltins\u001b[0m\u001b[0;34m.\u001b[0m\u001b[0mopen\u001b[0m\u001b[0;34m(\u001b[0m\u001b[0mfilename\u001b[0m\u001b[0;34m,\u001b[0m \u001b[0;34m\"rb\"\u001b[0m\u001b[0;34m)\u001b[0m\u001b[0;34m\u001b[0m\u001b[0;34m\u001b[0m\u001b[0m\n\u001b[0m\u001b[1;32m   3466\u001b[0m         \u001b[0mexclusive_fp\u001b[0m \u001b[0;34m=\u001b[0m \u001b[0;32mTrue\u001b[0m\u001b[0;34m\u001b[0m\u001b[0;34m\u001b[0m\u001b[0m\n\u001b[1;32m   3467\u001b[0m     \u001b[0;32melse\u001b[0m\u001b[0;34m:\u001b[0m\u001b[0;34m\u001b[0m\u001b[0;34m\u001b[0m\u001b[0m\n",
            "\u001b[0;31mFileNotFoundError\u001b[0m: [Errno 2] No such file or directory: 'results/test/try-on/000001_0.png'"
          ]
        }
      ]
    },
    {
      "cell_type": "markdown",
      "metadata": {
        "id": "Vz1m-KPtGTSo"
      },
      "source": [
        "### Check results in 'results' folder!"
      ]
    },
    {
      "cell_type": "markdown",
      "metadata": {
        "id": "V_zzoKdCOTNn"
      },
      "source": [
        "**Deleting all images**"
      ]
    },
    {
      "cell_type": "code",
      "metadata": {
        "id": "9b-Fx2TyKbZ9"
      },
      "source": [
        "!rm -rf Data_preprocessing/test_color/*\n",
        "!rm -rf Data_preprocessing/test_colormask/*\n",
        "!rm -rf Data_preprocessing/test_edge/*\n",
        "!rm -rf Data_preprocessing/test_img/*\n",
        "!rm -rf Data_preprocessing/test_label/*\n",
        "!rm -rf Data_preprocessing/test_mask/*\n",
        "!rm -rf Data_preprocessing/test_pose/*\n",
        "!rm -rf inputs/cloth/*\n",
        "!rm -rf inputs/img/*"
      ],
      "execution_count": null,
      "outputs": []
    },
    {
      "cell_type": "code",
      "metadata": {
        "id": "nLbylWRlO9QW"
      },
      "source": [
        "!rm -rf results/*"
      ],
      "execution_count": null,
      "outputs": []
    },
    {
      "cell_type": "code",
      "metadata": {
        "id": "qwcbPJYFW8vB",
        "colab": {
          "base_uri": "https://localhost:8080/"
        },
        "outputId": "51646a2f-8fa0-4397-a76f-181c36338e72"
      },
      "source": [
        "%cd /content/"
      ],
      "execution_count": null,
      "outputs": [
        {
          "output_type": "stream",
          "text": [
            "/content\n"
          ],
          "name": "stdout"
        }
      ]
    },
    {
      "cell_type": "markdown",
      "metadata": {
        "id": "veedN5N8BYOl"
      },
      "source": [
        "# SieveNet"
      ]
    },
    {
      "cell_type": "code",
      "metadata": {
        "colab": {
          "base_uri": "https://localhost:8080/"
        },
        "id": "S_bExJ_fOyf9",
        "outputId": "7c308c5d-02f3-428d-b63e-90eb467d42bb"
      },
      "source": [
        "!git clone https://github.com/levindabhi/SieveNet.git\n",
        "%cd SieveNet"
      ],
      "execution_count": null,
      "outputs": [
        {
          "output_type": "stream",
          "text": [
            "Cloning into 'SieveNet'...\n",
            "remote: Enumerating objects: 96, done.\u001b[K\n",
            "remote: Counting objects: 100% (96/96), done.\u001b[K\n",
            "remote: Compressing objects: 100% (94/94), done.\u001b[K\n",
            "remote: Total 96 (delta 34), reused 0 (delta 0), pack-reused 0\u001b[K\n",
            "Unpacking objects: 100% (96/96), done.\n",
            "/content/SieveNet\n"
          ],
          "name": "stdout"
        }
      ]
    },
    {
      "cell_type": "code",
      "metadata": {
        "colab": {
          "base_uri": "https://localhost:8080/"
        },
        "id": "yS5XP4A2O0eE",
        "outputId": "fce0807c-abf7-4dc9-e87f-8a479adb03ca"
      },
      "source": [
        "!mkdir checkpoints\n",
        "%cd checkpoints\n",
        "\n",
        "!mkdir GMM\n",
        "%cd GMM\n",
        "!gdown --id 1zuL44-GpiXJqADjuKZWrKJzD1UNiwn5r\n",
        "%cd ..\n",
        "\n",
        "!mkdir SEG\n",
        "%cd SEG\n",
        "!gdown --id 1VtQHs2ynCZYFYre7JsF-TCObUv4X0dON\n",
        "%cd ..\n",
        "\n",
        "!mkdir TOM\n",
        "%cd TOM\n",
        "!gdown --id 1Er5bnFXu6zbSbRhniywcIZdbY2ceCMIp\n",
        "%cd ..\n",
        "\n",
        "%cd .."
      ],
      "execution_count": null,
      "outputs": [
        {
          "output_type": "stream",
          "text": [
            "/content/SieveNet/checkpoints\n",
            "/content/SieveNet/checkpoints/GMM\n",
            "Downloading...\n",
            "From: https://drive.google.com/uc?id=1zuL44-GpiXJqADjuKZWrKJzD1UNiwn5r\n",
            "To: /content/SieveNet/checkpoints/GMM/gmm_final.pth\n",
            "123MB [00:01, 69.3MB/s]\n",
            "/content/SieveNet/checkpoints\n",
            "/content/SieveNet/checkpoints/SEG\n",
            "Downloading...\n",
            "From: https://drive.google.com/uc?id=1VtQHs2ynCZYFYre7JsF-TCObUv4X0dON\n",
            "To: /content/SieveNet/checkpoints/SEG/segm_final.pth\n",
            "117MB [00:01, 59.6MB/s]\n",
            "/content/SieveNet/checkpoints\n",
            "/content/SieveNet/checkpoints/TOM\n",
            "Downloading...\n",
            "From: https://drive.google.com/uc?id=1Er5bnFXu6zbSbRhniywcIZdbY2ceCMIp\n",
            "To: /content/SieveNet/checkpoints/TOM/tom_final.pth\n",
            "117MB [00:02, 43.1MB/s]\n",
            "/content/SieveNet/checkpoints\n",
            "/content/SieveNet\n"
          ],
          "name": "stdout"
        }
      ]
    },
    {
      "cell_type": "code",
      "metadata": {
        "colab": {
          "base_uri": "https://localhost:8080/"
        },
        "id": "OGf_x8RvO2db",
        "outputId": "be1280b1-35d4-418c-fda9-8f37890c5e43"
      },
      "source": [
        "%cd pose/\n",
        "!gdown --id 1hOHMFHEjhoJuLEQY0Ndurn5hfiA9mwko\n",
        "%cd .."
      ],
      "execution_count": null,
      "outputs": [
        {
          "output_type": "stream",
          "text": [
            "/content/SieveNet/pose\n",
            "Downloading...\n",
            "From: https://drive.google.com/uc?id=1hOHMFHEjhoJuLEQY0Ndurn5hfiA9mwko\n",
            "To: /content/SieveNet/pose/pose_iter_440000.caffemodel\n",
            "209MB [00:04, 48.9MB/s]\n",
            "/content/SieveNet\n"
          ],
          "name": "stdout"
        }
      ]
    },
    {
      "cell_type": "code",
      "metadata": {
        "id": "gcZK6HTXO4Pt"
      },
      "source": [
        "%%writefile config.py\n",
        "import os.path as osp\n",
        "import os\n",
        "\n",
        "\n",
        "class parser:\n",
        "    def __init__(self):\n",
        "        self.dataroot = 'dataset'\n",
        "        self.datamode = 'test'                                   #train, test\n",
        "        self.stage = 'TOM'                                        #GMM, SEG, TOM\n",
        "        self.runmode = self.datamode\n",
        "        self.name = self.stage\n",
        "        if self.datamode == 'train':\n",
        "            self.data_list = 'train_pairs.txt'\n",
        "        elif self.datamode == 'test':\n",
        "            self.data_list = 'test_pairs.txt'\n",
        "        self.fine_width = 192\n",
        "        self.fine_height = 256\n",
        "        self.radius = 4\n",
        "        self.grid_path =  osp.join(self.dataroot, 'grid.png')\n",
        "        if self.datamode == 'train':                            #for training keep true, for test keep false\n",
        "            self.shuffle = True\n",
        "        else:\n",
        "            self.shuffle = False\n",
        "        self.batch_size = 16\n",
        "        self.workers = 1\n",
        "        self.grid_size = 5\n",
        "\n",
        "        self.lr = 0.002\n",
        "        self.keep_step = 8000\n",
        "        self.decay_step = 5500\n",
        "        self.previous_step = 0                                  #if you want to resume training from some steps\n",
        "                                                                #set previous_step in as per last updated checkpoints\n",
        "        self.save_count = 200\n",
        "        self.display_count = 50\n",
        "\n",
        "        self.tensorboard_dir = osp.join(os.getcwd(), 'tensorboard')\n",
        "        self.checkpoint_dir = osp.join(os.getcwd(), 'checkpoints')\n",
        "        self.save_dir = osp.join(os.getcwd(), 'outputs')         #for saving output while infernce\n",
        "        if not osp.exists(self.save_dir):\n",
        "            os.makedirs(self.save_dir)\n",
        "        if self.previous_step == 0:\n",
        "            self.checkpoint = ''\n",
        "        else:\n",
        "            self.checkpoint = osp.join(self.checkpoint_dir, self.name, 'step_%06d.pth' % (self.previous_step))\n",
        "\n",
        "        #Set your images path here\n",
        "        self.input_image_path = 'custom/input/019579_0.jpg'\n",
        "        self.input_image_path = '/content/SieveNet/000006_0.jpg'\n",
        "        self.cloth_image_path = 'custom/input/017575_1.jpg'\n",
        "        self.cloth_image_path = '/content/SieveNet/000530_1.jpg'\n",
        "\n",
        "        self.human_parsing_image_path = '/content/SieveNet/000006_0.png'"
      ],
      "execution_count": null,
      "outputs": []
    },
    {
      "cell_type": "code",
      "metadata": {
        "colab": {
          "base_uri": "https://localhost:8080/"
        },
        "id": "Qm7IagDAO6Pz",
        "outputId": "b720a623-e1dc-4128-af80-a66c1ee6ca04"
      },
      "source": [
        "!python inference.py"
      ],
      "execution_count": null,
      "outputs": [
        {
          "output_type": "stream",
          "text": [
            "OpenCV(ocl4dnn): consider to specify kernel configuration cache directory \n",
            "                 via OPENCV_OCL4DNN_CONFIG_PATH parameter.\n",
            "OpenCL program build log: dnn/dummy\n",
            "Status -11: CL_BUILD_PROGRAM_FAILURE\n",
            "-cl-no-subgroup-ifp\n",
            "Error in processing command line: Don't understand command line argument \"-cl-no-subgroup-ifp\"!\n",
            "File saved at /content/SieveNet/000006_0_keypoints.json\n",
            "initialization method [normal]\n",
            "initialization method [normal]\n",
            "initialization method [normal]\n",
            "----checkpoints loaded from path: /content/SieveNet/checkpoints/GMM/gmm_final.pth----\n",
            "----checkpoints loaded from path: /content/SieveNet/checkpoints/SEG/segm_final.pth----\n",
            "----checkpoints loaded from path: /content/SieveNet/checkpoints/TOM/tom_final.pth----\n",
            "Output generated!\n",
            "Output saved at /content/SieveNet/outputs\n"
          ],
          "name": "stdout"
        }
      ]
    }
  ]
}